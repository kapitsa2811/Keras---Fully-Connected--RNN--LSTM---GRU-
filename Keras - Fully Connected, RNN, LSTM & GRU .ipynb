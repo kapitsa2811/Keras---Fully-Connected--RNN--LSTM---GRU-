{
 "cells": [
  {
   "cell_type": "markdown",
   "metadata": {},
   "source": [
    "## Canadian Monthly Retail Sales"
   ]
  },
  {
   "cell_type": "code",
   "execution_count": 1,
   "metadata": {
    "collapsed": true
   },
   "outputs": [],
   "source": [
    "import pandas as pd\n",
    "import numpy as np\n",
    "import matplotlib.pyplot as plt\n",
    "%matplotlib inline"
   ]
  },
  {
   "cell_type": "code",
   "execution_count": 2,
   "metadata": {
    "scrolled": true
   },
   "outputs": [
    {
     "data": {
      "text/html": [
       "<div>\n",
       "<style>\n",
       "    .dataframe thead tr:only-child th {\n",
       "        text-align: right;\n",
       "    }\n",
       "\n",
       "    .dataframe thead th {\n",
       "        text-align: left;\n",
       "    }\n",
       "\n",
       "    .dataframe tbody tr th {\n",
       "        vertical-align: top;\n",
       "    }\n",
       "</style>\n",
       "<table border=\"1\" class=\"dataframe\">\n",
       "  <thead>\n",
       "    <tr style=\"text-align: right;\">\n",
       "      <th></th>\n",
       "      <th>Adjustments</th>\n",
       "      <th>Unadjusted</th>\n",
       "      <th>Seasonally adjusted</th>\n",
       "    </tr>\n",
       "  </thead>\n",
       "  <tbody>\n",
       "    <tr>\n",
       "      <th>0</th>\n",
       "      <td>Jan-1991</td>\n",
       "      <td>12588862</td>\n",
       "      <td>15026890</td>\n",
       "    </tr>\n",
       "    <tr>\n",
       "      <th>1</th>\n",
       "      <td>Feb-1991</td>\n",
       "      <td>12154321</td>\n",
       "      <td>15304585</td>\n",
       "    </tr>\n",
       "    <tr>\n",
       "      <th>2</th>\n",
       "      <td>Mar-1991</td>\n",
       "      <td>14337072</td>\n",
       "      <td>15413591</td>\n",
       "    </tr>\n",
       "    <tr>\n",
       "      <th>3</th>\n",
       "      <td>Apr-1991</td>\n",
       "      <td>15108570</td>\n",
       "      <td>15293409</td>\n",
       "    </tr>\n",
       "    <tr>\n",
       "      <th>4</th>\n",
       "      <td>May-1991</td>\n",
       "      <td>17225734</td>\n",
       "      <td>15676083</td>\n",
       "    </tr>\n",
       "  </tbody>\n",
       "</table>\n",
       "</div>"
      ],
      "text/plain": [
       "  Adjustments  Unadjusted  Seasonally adjusted\n",
       "0    Jan-1991    12588862             15026890\n",
       "1    Feb-1991    12154321             15304585\n",
       "2    Mar-1991    14337072             15413591\n",
       "3    Apr-1991    15108570             15293409\n",
       "4    May-1991    17225734             15676083"
      ]
     },
     "execution_count": 2,
     "metadata": {},
     "output_type": "execute_result"
    }
   ],
   "source": [
    "df = pd.read_csv('../data/cansim-0800020-eng-6674700030567901031.csv',\n",
    "                 skiprows=6, skipfooter=9,\n",
    "                 engine='python')\n",
    "df.head()"
   ]
  },
  {
   "cell_type": "code",
   "execution_count": 3,
   "metadata": {},
   "outputs": [
    {
     "data": {
      "text/html": [
       "<div>\n",
       "<style>\n",
       "    .dataframe thead tr:only-child th {\n",
       "        text-align: right;\n",
       "    }\n",
       "\n",
       "    .dataframe thead th {\n",
       "        text-align: left;\n",
       "    }\n",
       "\n",
       "    .dataframe tbody tr th {\n",
       "        vertical-align: top;\n",
       "    }\n",
       "</style>\n",
       "<table border=\"1\" class=\"dataframe\">\n",
       "  <thead>\n",
       "    <tr style=\"text-align: right;\">\n",
       "      <th></th>\n",
       "      <th>Unadjusted</th>\n",
       "      <th>Seasonally adjusted</th>\n",
       "    </tr>\n",
       "    <tr>\n",
       "      <th>Adjustments</th>\n",
       "      <th></th>\n",
       "      <th></th>\n",
       "    </tr>\n",
       "  </thead>\n",
       "  <tbody>\n",
       "    <tr>\n",
       "      <th>1991-01-01</th>\n",
       "      <td>12588862</td>\n",
       "      <td>15026890</td>\n",
       "    </tr>\n",
       "    <tr>\n",
       "      <th>1991-02-01</th>\n",
       "      <td>12154321</td>\n",
       "      <td>15304585</td>\n",
       "    </tr>\n",
       "    <tr>\n",
       "      <th>1991-03-01</th>\n",
       "      <td>14337072</td>\n",
       "      <td>15413591</td>\n",
       "    </tr>\n",
       "    <tr>\n",
       "      <th>1991-04-01</th>\n",
       "      <td>15108570</td>\n",
       "      <td>15293409</td>\n",
       "    </tr>\n",
       "    <tr>\n",
       "      <th>1991-05-01</th>\n",
       "      <td>17225734</td>\n",
       "      <td>15676083</td>\n",
       "    </tr>\n",
       "  </tbody>\n",
       "</table>\n",
       "</div>"
      ],
      "text/plain": [
       "             Unadjusted  Seasonally adjusted\n",
       "Adjustments                                 \n",
       "1991-01-01     12588862             15026890\n",
       "1991-02-01     12154321             15304585\n",
       "1991-03-01     14337072             15413591\n",
       "1991-04-01     15108570             15293409\n",
       "1991-05-01     17225734             15676083"
      ]
     },
     "execution_count": 3,
     "metadata": {},
     "output_type": "execute_result"
    }
   ],
   "source": [
    "df = df.set_index(pd.to_datetime(df.Adjustments))\n",
    "df = df.drop('Adjustments',axis = 1)\n",
    "df.head()"
   ]
  },
  {
   "cell_type": "code",
   "execution_count": 4,
   "metadata": {},
   "outputs": [
    {
     "data": {
      "text/plain": [
       "<matplotlib.axes._subplots.AxesSubplot at 0x1f63004e8d0>"
      ]
     },
     "execution_count": 4,
     "metadata": {},
     "output_type": "execute_result"
    },
    {
     "data": {
      "image/png": "[encoded data removed]",
      "text/plain": [
       "<matplotlib.figure.Figure at 0x1f630009b00>"
      ]
     },
     "metadata": {},
     "output_type": "display_data"
    }
   ],
   "source": [
    "df.plot()"
   ]
  },
  {
   "cell_type": "code",
   "execution_count": 5,
   "metadata": {
    "collapsed": true
   },
   "outputs": [],
   "source": [
    "split_date = pd.to_datetime('01-01-2011')"
   ]
  },
  {
   "cell_type": "code",
   "execution_count": 6,
   "metadata": {
    "collapsed": true
   },
   "outputs": [],
   "source": [
    "train = df.loc[:split_date,['Unadjusted']]\n",
    "test = df.loc[split_date:,['Unadjusted']]"
   ]
  },
  {
   "cell_type": "code",
   "execution_count": 7,
   "metadata": {},
   "outputs": [
    {
     "data": {
      "text/plain": [
       "<matplotlib.legend.Legend at 0x1f63212ec50>"
      ]
     },
     "execution_count": 7,
     "metadata": {},
     "output_type": "execute_result"
    },
    {
     "data": {
      "image/png": "[encoded data removed]",
      "text/plain": [
       "<matplotlib.figure.Figure at 0x1f632148978>"
      ]
     },
     "metadata": {},
     "output_type": "display_data"
    }
   ],
   "source": [
    "ax = train.plot()\n",
    "test.plot(ax=ax)\n",
    "plt.legend(['train','test'])"
   ]
  },
  {
   "cell_type": "code",
   "execution_count": 8,
   "metadata": {},
   "outputs": [],
   "source": [
    "from sklearn.preprocessing import MinMaxScaler\n",
    "\n",
    "scaler = MinMaxScaler()\n",
    "\n",
    "train_scaled = scaler.fit_transform(train)\n",
    "test_scaled = scaler.transform(test)"
   ]
  },
  {
   "cell_type": "code",
   "execution_count": 9,
   "metadata": {
    "collapsed": true
   },
   "outputs": [],
   "source": [
    "X_train = train_scaled[:-1]\n",
    "y_train = train_scaled[1:]\n",
    "\n",
    "X_test = test_scaled[:-1]\n",
    "y_test = test_scaled[1:]"
   ]
  },
  {
   "cell_type": "markdown",
   "metadata": {},
   "source": [
    "### Fully Connected"
   ]
  },
  {
   "cell_type": "code",
   "execution_count": 10,
   "metadata": {},
   "outputs": [
    {
     "name": "stderr",
     "output_type": "stream",
     "text": [
      "Using TensorFlow backend.\n"
     ]
    }
   ],
   "source": [
    "from keras.models import Sequential\n",
    "from keras.layers import Dense\n",
    "import keras.backend as K\n",
    "from keras.callbacks import EarlyStopping\n",
    "from keras.optimizers import Adam"
   ]
  },
  {
   "cell_type": "code",
   "execution_count": 11,
   "metadata": {},
   "outputs": [
    {
     "name": "stdout",
     "output_type": "stream",
     "text": [
      "_________________________________________________________________\n",
      "Layer (type)                 Output Shape              Param #   \n",
      "=================================================================\n",
      "dense_1 (Dense)              (None, 16)                32        \n",
      "_________________________________________________________________\n",
      "dense_2 (Dense)              (None, 1)                 17        \n",
      "=================================================================\n",
      "Total params: 49\n",
      "Trainable params: 49\n",
      "Non-trainable params: 0\n",
      "_________________________________________________________________\n"
     ]
    }
   ],
   "source": [
    "K.clear_session()\n",
    "\n",
    "model = Sequential()\n",
    "model.add(Dense(16, input_dim=1, activation='relu'))\n",
    "model.add(Dense(1))\n",
    "model.compile(Adam(lr=0.01),loss='mean_squared_error')\n",
    "model.summary()"
   ]
  },
  {
   "cell_type": "code",
   "execution_count": 12,
   "metadata": {
    "collapsed": true
   },
   "outputs": [],
   "source": [
    "early_stop = EarlyStopping(monitor='loss', patience=10, verbose=1)"
   ]
  },
  {
   "cell_type": "code",
   "execution_count": 13,
   "metadata": {
    "scrolled": true
   },
   "outputs": [
    {
     "name": "stdout",
     "output_type": "stream",
     "text": [
      "Train on 216 samples, validate on 24 samples\n",
      "Epoch 1/200\n",
      "216/216 [==============================] - 2s 7ms/step - loss: 0.0225 - val_loss: 0.0185\n",
      "Epoch 2/200\n",
      "216/216 [==============================] - 0s 1ms/step - loss: 0.0102 - val_loss: 0.0199\n",
      "Epoch 3/200\n",
      "216/216 [==============================] - 0s 1ms/step - loss: 0.0108 - val_loss: 0.0166\n",
      "Epoch 4/200\n",
      "216/216 [==============================] - 0s 1ms/step - loss: 0.0111 - val_loss: 0.0190\n",
      "Epoch 5/200\n",
      "216/216 [==============================] - 0s 1ms/step - loss: 0.0113 - val_loss: 0.0198\n",
      "Epoch 6/200\n",
      "216/216 [==============================] - 0s 1ms/step - loss: 0.0105 - val_loss: 0.0166\n",
      "Epoch 7/200\n",
      "216/216 [==============================] - 0s 1ms/step - loss: 0.0110 - val_loss: 0.0329\n",
      "Epoch 8/200\n",
      "216/216 [==============================] - 0s 1ms/step - loss: 0.0108 - val_loss: 0.0302\n",
      "Epoch 9/200\n",
      "216/216 [==============================] - 0s 1ms/step - loss: 0.0110 - val_loss: 0.0152\n",
      "Epoch 10/200\n",
      "216/216 [==============================] - 0s 1ms/step - loss: 0.0106 - val_loss: 0.0155\n",
      "Epoch 11/200\n",
      "216/216 [==============================] - 0s 1ms/step - loss: 0.0117 - val_loss: 0.0176\n",
      "Epoch 12/200\n",
      "216/216 [==============================] - 0s 1ms/step - loss: 0.0102 - val_loss: 0.0170\n",
      "Epoch 13/200\n",
      "216/216 [==============================] - 0s 1ms/step - loss: 0.0111 - val_loss: 0.0216\n",
      "Epoch 14/200\n",
      "216/216 [==============================] - 0s 1ms/step - loss: 0.0102 - val_loss: 0.0315\n",
      "Epoch 15/200\n",
      "216/216 [==============================] - 0s 1ms/step - loss: 0.0107 - val_loss: 0.0175\n",
      "Epoch 16/200\n",
      "216/216 [==============================] - 0s 1ms/step - loss: 0.0105 - val_loss: 0.0166\n",
      "Epoch 17/200\n",
      "216/216 [==============================] - 0s 1ms/step - loss: 0.0099 - val_loss: 0.0204\n",
      "Epoch 18/200\n",
      "216/216 [==============================] - 0s 1ms/step - loss: 0.0106 - val_loss: 0.0160\n",
      "Epoch 19/200\n",
      "216/216 [==============================] - 0s 1ms/step - loss: 0.0115 - val_loss: 0.0189\n",
      "Epoch 20/200\n",
      "216/216 [==============================] - 0s 1ms/step - loss: 0.0112 - val_loss: 0.0223\n",
      "Epoch 21/200\n",
      "216/216 [==============================] - 0s 1ms/step - loss: 0.0109 - val_loss: 0.0165\n",
      "Epoch 22/200\n",
      "216/216 [==============================] - 0s 2ms/step - loss: 0.0102 - val_loss: 0.0166\n",
      "Epoch 23/200\n",
      "216/216 [==============================] - 0s 1ms/step - loss: 0.0106 - val_loss: 0.0182\n",
      "Epoch 24/200\n",
      "216/216 [==============================] - 0s 2ms/step - loss: 0.0112 - val_loss: 0.0271\n",
      "Epoch 25/200\n",
      "216/216 [==============================] - 0s 2ms/step - loss: 0.0103 - val_loss: 0.0175\n",
      "Epoch 26/200\n",
      "216/216 [==============================] - 0s 2ms/step - loss: 0.0100 - val_loss: 0.0225\n",
      "Epoch 27/200\n",
      "216/216 [==============================] - 0s 1ms/step - loss: 0.0102 - val_loss: 0.0199\n",
      "Epoch 00027: early stopping\n"
     ]
    },
    {
     "data": {
      "text/plain": [
       "<keras.callbacks.History at 0x1f632c39a58>"
      ]
     },
     "execution_count": 13,
     "metadata": {},
     "output_type": "execute_result"
    }
   ],
   "source": [
    "model.fit(X_train, y_train, epochs=200,\n",
    "          batch_size=2, verbose=1,\n",
    "          validation_split=0.1,\n",
    "          callbacks=[early_stop])"
   ]
  },
  {
   "cell_type": "code",
   "execution_count": 14,
   "metadata": {
    "collapsed": true
   },
   "outputs": [],
   "source": [
    "y_pred = model.predict(X_test)"
   ]
  },
  {
   "cell_type": "code",
   "execution_count": 15,
   "metadata": {},
   "outputs": [
    {
     "data": {
      "text/plain": [
       "[<matplotlib.lines.Line2D at 0x1f636d38dd8>]"
      ]
     },
     "execution_count": 15,
     "metadata": {},
     "output_type": "execute_result"
    },
    {
     "data": {
      "image/png": "[encoded data removed]",
      "text/plain": [
       "<matplotlib.figure.Figure at 0x1f636d38978>"
      ]
     },
     "metadata": {},
     "output_type": "display_data"
    }
   ],
   "source": [
    "plt.plot(y_test)\n",
    "plt.plot(y_pred)"
   ]
  },
  {
   "cell_type": "code",
   "execution_count": 16,
   "metadata": {},
   "outputs": [
    {
     "name": "stdout",
     "output_type": "stream",
     "text": [
      "MAPE: 13.9784658047%\n"
     ]
    }
   ],
   "source": [
    "print(\"MAPE: \" + str(np.mean(np.abs(y_test-y_pred)/y_test)*100) + \"%\")"
   ]
  },
  {
   "cell_type": "markdown",
   "metadata": {},
   "source": [
    "## Recurrent Predictor"
   ]
  },
  {
   "cell_type": "code",
   "execution_count": 17,
   "metadata": {
    "collapsed": true
   },
   "outputs": [],
   "source": [
    "from keras.layers import LSTM, GRU"
   ]
  },
  {
   "cell_type": "code",
   "execution_count": 18,
   "metadata": {},
   "outputs": [
    {
     "data": {
      "text/plain": [
       "(240, 1)"
      ]
     },
     "execution_count": 18,
     "metadata": {},
     "output_type": "execute_result"
    }
   ],
   "source": [
    "X_train.shape"
   ]
  },
  {
   "cell_type": "code",
   "execution_count": 19,
   "metadata": {
    "scrolled": true
   },
   "outputs": [
    {
     "data": {
      "text/plain": [
       "(240, 1, 1)"
      ]
     },
     "execution_count": 19,
     "metadata": {},
     "output_type": "execute_result"
    }
   ],
   "source": [
    "#3d tensor with shape (batch_size, timesteps, input_dim)\n",
    "X_train[:,None].shape"
   ]
  },
  {
   "cell_type": "code",
   "execution_count": 20,
   "metadata": {
    "collapsed": true
   },
   "outputs": [],
   "source": [
    "X_train_t = X_train[:,None]\n",
    "X_test_t = X_test[:,None]"
   ]
  },
  {
   "cell_type": "code",
   "execution_count": 21,
   "metadata": {
    "collapsed": true
   },
   "outputs": [],
   "source": [
    "K.clear_session()\n",
    "model = Sequential()\n",
    "model.add(LSTM(6, input_shape = (1,1)))\n",
    "model.add(Dense(1))\n",
    "model.compile(Adam(lr=0.01),loss = 'mse')"
   ]
  },
  {
   "cell_type": "code",
   "execution_count": 22,
   "metadata": {},
   "outputs": [
    {
     "name": "stdout",
     "output_type": "stream",
     "text": [
      "Train on 216 samples, validate on 24 samples\n",
      "Epoch 1/100\n",
      "216/216 [==============================] - 2s 8ms/step - loss: 0.0230 - val_loss: 0.0159\n",
      "Epoch 2/100\n",
      "216/216 [==============================] - 1s 5ms/step - loss: 0.0112 - val_loss: 0.0199\n",
      "Epoch 3/100\n",
      "216/216 [==============================] - 1s 5ms/step - loss: 0.0105 - val_loss: 0.0244\n",
      "Epoch 4/100\n",
      "216/216 [==============================] - 1s 5ms/step - loss: 0.0106 - val_loss: 0.0170\n",
      "Epoch 5/100\n",
      "216/216 [==============================] - 1s 5ms/step - loss: 0.0108 - val_loss: 0.0150\n",
      "Epoch 6/100\n",
      "216/216 [==============================] - 1s 5ms/step - loss: 0.0105 - val_loss: 0.0197\n",
      "Epoch 7/100\n",
      "216/216 [==============================] - 1s 5ms/step - loss: 0.0104 - val_loss: 0.0226\n",
      "Epoch 8/100\n",
      "216/216 [==============================] - 1s 5ms/step - loss: 0.0113 - val_loss: 0.0211\n",
      "Epoch 9/100\n",
      "216/216 [==============================] - 1s 4ms/step - loss: 0.0102 - val_loss: 0.0201\n",
      "Epoch 10/100\n",
      "216/216 [==============================] - 1s 5ms/step - loss: 0.0105 - val_loss: 0.0202\n",
      "Epoch 11/100\n",
      "216/216 [==============================] - 1s 5ms/step - loss: 0.0112 - val_loss: 0.0243\n",
      "Epoch 12/100\n",
      "216/216 [==============================] - 1s 5ms/step - loss: 0.0111 - val_loss: 0.0142\n",
      "Epoch 13/100\n",
      "216/216 [==============================] - 1s 5ms/step - loss: 0.0116 - val_loss: 0.0157\n",
      "Epoch 14/100\n",
      "216/216 [==============================] - 1s 4ms/step - loss: 0.0111 - val_loss: 0.0208\n",
      "Epoch 15/100\n",
      "216/216 [==============================] - 1s 4ms/step - loss: 0.0115 - val_loss: 0.0165\n",
      "Epoch 16/100\n",
      "216/216 [==============================] - 1s 5ms/step - loss: 0.0103 - val_loss: 0.0149\n",
      "Epoch 17/100\n",
      "216/216 [==============================] - 1s 5ms/step - loss: 0.0098 - val_loss: 0.0150\n",
      "Epoch 18/100\n",
      "216/216 [==============================] - 1s 5ms/step - loss: 0.0106 - val_loss: 0.0133\n",
      "Epoch 19/100\n",
      "216/216 [==============================] - 1s 5ms/step - loss: 0.0108 - val_loss: 0.0339\n",
      "Epoch 20/100\n",
      "216/216 [==============================] - 1s 4ms/step - loss: 0.0106 - val_loss: 0.0137\n",
      "Epoch 21/100\n",
      "216/216 [==============================] - 1s 5ms/step - loss: 0.0105 - val_loss: 0.0154\n",
      "Epoch 22/100\n",
      "216/216 [==============================] - 1s 5ms/step - loss: 0.0106 - val_loss: 0.0152\n",
      "Epoch 23/100\n",
      "216/216 [==============================] - 1s 5ms/step - loss: 0.0112 - val_loss: 0.0205\n",
      "Epoch 24/100\n",
      "216/216 [==============================] - 1s 5ms/step - loss: 0.0105 - val_loss: 0.0175\n",
      "Epoch 25/100\n",
      "216/216 [==============================] - 1s 5ms/step - loss: 0.0103 - val_loss: 0.0216\n",
      "Epoch 26/100\n",
      "216/216 [==============================] - 1s 5ms/step - loss: 0.0103 - val_loss: 0.0215\n",
      "Epoch 27/100\n",
      "216/216 [==============================] - 1s 5ms/step - loss: 0.0106 - val_loss: 0.0247\n",
      "Epoch 00027: early stopping\n"
     ]
    },
    {
     "data": {
      "text/plain": [
       "<keras.callbacks.History at 0x1f63224c940>"
      ]
     },
     "execution_count": 22,
     "metadata": {},
     "output_type": "execute_result"
    }
   ],
   "source": [
    "model.fit(X_train_t, y_train,\n",
    "        epochs = 100, \n",
    "        batch_size = 1, \n",
    "        verbose = 1,\n",
    "        validation_split=0.1,\n",
    "        callbacks = [early_stop])"
   ]
  },
  {
   "cell_type": "code",
   "execution_count": 23,
   "metadata": {},
   "outputs": [
    {
     "data": {
      "text/plain": [
       "[<matplotlib.lines.Line2D at 0x1f63224c7b8>]"
      ]
     },
     "execution_count": 23,
     "metadata": {},
     "output_type": "execute_result"
    },
    {
     "data": {
      "image/png": "[encoded data removed]",
      "text/plain": [
       "<matplotlib.figure.Figure at 0x1f7cdbf7eb8>"
      ]
     },
     "metadata": {},
     "output_type": "display_data"
    }
   ],
   "source": [
    "y_pred = model.predict(X_test_t)\n",
    "plt.plot(y_test)\n",
    "plt.plot(y_pred)"
   ]
  },
  {
   "cell_type": "code",
   "execution_count": 24,
   "metadata": {},
   "outputs": [
    {
     "name": "stdout",
     "output_type": "stream",
     "text": [
      "MAPE: 21.065816544%\n"
     ]
    }
   ],
   "source": [
    "print(\"MAPE: \" + str(np.mean(np.abs(y_test-y_pred)/y_test)*100) + \"%\")"
   ]
  },
  {
   "cell_type": "markdown",
   "metadata": {},
   "source": [
    "### Windows"
   ]
  },
  {
   "cell_type": "code",
   "execution_count": 25,
   "metadata": {},
   "outputs": [
    {
     "data": {
      "text/plain": [
       "(241, 1)"
      ]
     },
     "execution_count": 25,
     "metadata": {},
     "output_type": "execute_result"
    }
   ],
   "source": [
    "train_scaled.shape"
   ]
  },
  {
   "cell_type": "code",
   "execution_count": 26,
   "metadata": {},
   "outputs": [
    {
     "data": {
      "text/html": [
       "<div>\n",
       "<style>\n",
       "    .dataframe thead tr:only-child th {\n",
       "        text-align: right;\n",
       "    }\n",
       "\n",
       "    .dataframe thead th {\n",
       "        text-align: left;\n",
       "    }\n",
       "\n",
       "    .dataframe tbody tr th {\n",
       "        vertical-align: top;\n",
       "    }\n",
       "</style>\n",
       "<table border=\"1\" class=\"dataframe\">\n",
       "  <thead>\n",
       "    <tr style=\"text-align: right;\">\n",
       "      <th></th>\n",
       "      <th>Scaled</th>\n",
       "    </tr>\n",
       "    <tr>\n",
       "      <th>Adjustments</th>\n",
       "      <th></th>\n",
       "    </tr>\n",
       "  </thead>\n",
       "  <tbody>\n",
       "    <tr>\n",
       "      <th>1991-01-01</th>\n",
       "      <td>0.014020</td>\n",
       "    </tr>\n",
       "    <tr>\n",
       "      <th>1991-02-01</th>\n",
       "      <td>0.000000</td>\n",
       "    </tr>\n",
       "    <tr>\n",
       "      <th>1991-03-01</th>\n",
       "      <td>0.070426</td>\n",
       "    </tr>\n",
       "    <tr>\n",
       "      <th>1991-04-01</th>\n",
       "      <td>0.095318</td>\n",
       "    </tr>\n",
       "    <tr>\n",
       "      <th>1991-05-01</th>\n",
       "      <td>0.163628</td>\n",
       "    </tr>\n",
       "  </tbody>\n",
       "</table>\n",
       "</div>"
      ],
      "text/plain": [
       "               Scaled\n",
       "Adjustments          \n",
       "1991-01-01   0.014020\n",
       "1991-02-01   0.000000\n",
       "1991-03-01   0.070426\n",
       "1991-04-01   0.095318\n",
       "1991-05-01   0.163628"
      ]
     },
     "execution_count": 26,
     "metadata": {},
     "output_type": "execute_result"
    }
   ],
   "source": [
    "train_sc_df = pd.DataFrame(train_scaled, columns = ['Scaled'], index = train.index)\n",
    "test_sc_df = pd.DataFrame(test_scaled, columns = ['Scaled'], index = test.index)\n",
    "train_sc_df.head()\n"
   ]
  },
  {
   "cell_type": "code",
   "execution_count": 27,
   "metadata": {
    "collapsed": true
   },
   "outputs": [],
   "source": [
    "lags = 25\n",
    "for s in range(1,lags):\n",
    "    train_sc_df['shift_{}'.format(s)] = train_sc_df['Scaled'].shift(s)\n",
    "    test_sc_df['shift_{}'.format(s)] = test_sc_df['Scaled'].shift(s)\n",
    "    "
   ]
  },
  {
   "cell_type": "code",
   "execution_count": 28,
   "metadata": {},
   "outputs": [
    {
     "data": {
      "text/html": [
       "<div>\n",
       "<style>\n",
       "    .dataframe thead tr:only-child th {\n",
       "        text-align: right;\n",
       "    }\n",
       "\n",
       "    .dataframe thead th {\n",
       "        text-align: left;\n",
       "    }\n",
       "\n",
       "    .dataframe tbody tr th {\n",
       "        vertical-align: top;\n",
       "    }\n",
       "</style>\n",
       "<table border=\"1\" class=\"dataframe\">\n",
       "  <thead>\n",
       "    <tr style=\"text-align: right;\">\n",
       "      <th></th>\n",
       "      <th>Scaled</th>\n",
       "      <th>shift_1</th>\n",
       "      <th>shift_2</th>\n",
       "      <th>shift_3</th>\n",
       "      <th>shift_4</th>\n",
       "      <th>shift_5</th>\n",
       "      <th>shift_6</th>\n",
       "      <th>shift_7</th>\n",
       "      <th>shift_8</th>\n",
       "      <th>shift_9</th>\n",
       "      <th>...</th>\n",
       "      <th>shift_15</th>\n",
       "      <th>shift_16</th>\n",
       "      <th>shift_17</th>\n",
       "      <th>shift_18</th>\n",
       "      <th>shift_19</th>\n",
       "      <th>shift_20</th>\n",
       "      <th>shift_21</th>\n",
       "      <th>shift_22</th>\n",
       "      <th>shift_23</th>\n",
       "      <th>shift_24</th>\n",
       "    </tr>\n",
       "    <tr>\n",
       "      <th>Adjustments</th>\n",
       "      <th></th>\n",
       "      <th></th>\n",
       "      <th></th>\n",
       "      <th></th>\n",
       "      <th></th>\n",
       "      <th></th>\n",
       "      <th></th>\n",
       "      <th></th>\n",
       "      <th></th>\n",
       "      <th></th>\n",
       "      <th></th>\n",
       "      <th></th>\n",
       "      <th></th>\n",
       "      <th></th>\n",
       "      <th></th>\n",
       "      <th></th>\n",
       "      <th></th>\n",
       "      <th></th>\n",
       "      <th></th>\n",
       "      <th></th>\n",
       "      <th></th>\n",
       "    </tr>\n",
       "  </thead>\n",
       "  <tbody>\n",
       "    <tr>\n",
       "      <th>1991-01-01</th>\n",
       "      <td>0.014020</td>\n",
       "      <td>NaN</td>\n",
       "      <td>NaN</td>\n",
       "      <td>NaN</td>\n",
       "      <td>NaN</td>\n",
       "      <td>NaN</td>\n",
       "      <td>NaN</td>\n",
       "      <td>NaN</td>\n",
       "      <td>NaN</td>\n",
       "      <td>NaN</td>\n",
       "      <td>...</td>\n",
       "      <td>NaN</td>\n",
       "      <td>NaN</td>\n",
       "      <td>NaN</td>\n",
       "      <td>NaN</td>\n",
       "      <td>NaN</td>\n",
       "      <td>NaN</td>\n",
       "      <td>NaN</td>\n",
       "      <td>NaN</td>\n",
       "      <td>NaN</td>\n",
       "      <td>NaN</td>\n",
       "    </tr>\n",
       "    <tr>\n",
       "      <th>1991-02-01</th>\n",
       "      <td>0.000000</td>\n",
       "      <td>0.014020</td>\n",
       "      <td>NaN</td>\n",
       "      <td>NaN</td>\n",
       "      <td>NaN</td>\n",
       "      <td>NaN</td>\n",
       "      <td>NaN</td>\n",
       "      <td>NaN</td>\n",
       "      <td>NaN</td>\n",
       "      <td>NaN</td>\n",
       "      <td>...</td>\n",
       "      <td>NaN</td>\n",
       "      <td>NaN</td>\n",
       "      <td>NaN</td>\n",
       "      <td>NaN</td>\n",
       "      <td>NaN</td>\n",
       "      <td>NaN</td>\n",
       "      <td>NaN</td>\n",
       "      <td>NaN</td>\n",
       "      <td>NaN</td>\n",
       "      <td>NaN</td>\n",
       "    </tr>\n",
       "    <tr>\n",
       "      <th>1991-03-01</th>\n",
       "      <td>0.070426</td>\n",
       "      <td>0.000000</td>\n",
       "      <td>0.014020</td>\n",
       "      <td>NaN</td>\n",
       "      <td>NaN</td>\n",
       "      <td>NaN</td>\n",
       "      <td>NaN</td>\n",
       "      <td>NaN</td>\n",
       "      <td>NaN</td>\n",
       "      <td>NaN</td>\n",
       "      <td>...</td>\n",
       "      <td>NaN</td>\n",
       "      <td>NaN</td>\n",
       "      <td>NaN</td>\n",
       "      <td>NaN</td>\n",
       "      <td>NaN</td>\n",
       "      <td>NaN</td>\n",
       "      <td>NaN</td>\n",
       "      <td>NaN</td>\n",
       "      <td>NaN</td>\n",
       "      <td>NaN</td>\n",
       "    </tr>\n",
       "    <tr>\n",
       "      <th>1991-04-01</th>\n",
       "      <td>0.095318</td>\n",
       "      <td>0.070426</td>\n",
       "      <td>0.000000</td>\n",
       "      <td>0.014020</td>\n",
       "      <td>NaN</td>\n",
       "      <td>NaN</td>\n",
       "      <td>NaN</td>\n",
       "      <td>NaN</td>\n",
       "      <td>NaN</td>\n",
       "      <td>NaN</td>\n",
       "      <td>...</td>\n",
       "      <td>NaN</td>\n",
       "      <td>NaN</td>\n",
       "      <td>NaN</td>\n",
       "      <td>NaN</td>\n",
       "      <td>NaN</td>\n",
       "      <td>NaN</td>\n",
       "      <td>NaN</td>\n",
       "      <td>NaN</td>\n",
       "      <td>NaN</td>\n",
       "      <td>NaN</td>\n",
       "    </tr>\n",
       "    <tr>\n",
       "      <th>1991-05-01</th>\n",
       "      <td>0.163628</td>\n",
       "      <td>0.095318</td>\n",
       "      <td>0.070426</td>\n",
       "      <td>0.000000</td>\n",
       "      <td>0.014020</td>\n",
       "      <td>NaN</td>\n",
       "      <td>NaN</td>\n",
       "      <td>NaN</td>\n",
       "      <td>NaN</td>\n",
       "      <td>NaN</td>\n",
       "      <td>...</td>\n",
       "      <td>NaN</td>\n",
       "      <td>NaN</td>\n",
       "      <td>NaN</td>\n",
       "      <td>NaN</td>\n",
       "      <td>NaN</td>\n",
       "      <td>NaN</td>\n",
       "      <td>NaN</td>\n",
       "      <td>NaN</td>\n",
       "      <td>NaN</td>\n",
       "      <td>NaN</td>\n",
       "    </tr>\n",
       "    <tr>\n",
       "      <th>1991-06-01</th>\n",
       "      <td>0.135141</td>\n",
       "      <td>0.163628</td>\n",
       "      <td>0.095318</td>\n",
       "      <td>0.070426</td>\n",
       "      <td>0.000000</td>\n",
       "      <td>0.014020</td>\n",
       "      <td>NaN</td>\n",
       "      <td>NaN</td>\n",
       "      <td>NaN</td>\n",
       "      <td>NaN</td>\n",
       "      <td>...</td>\n",
       "      <td>NaN</td>\n",
       "      <td>NaN</td>\n",
       "      <td>NaN</td>\n",
       "      <td>NaN</td>\n",
       "      <td>NaN</td>\n",
       "      <td>NaN</td>\n",
       "      <td>NaN</td>\n",
       "      <td>NaN</td>\n",
       "      <td>NaN</td>\n",
       "      <td>NaN</td>\n",
       "    </tr>\n",
       "    <tr>\n",
       "      <th>1991-07-01</th>\n",
       "      <td>0.123958</td>\n",
       "      <td>0.135141</td>\n",
       "      <td>0.163628</td>\n",
       "      <td>0.095318</td>\n",
       "      <td>0.070426</td>\n",
       "      <td>0.000000</td>\n",
       "      <td>0.014020</td>\n",
       "      <td>NaN</td>\n",
       "      <td>NaN</td>\n",
       "      <td>NaN</td>\n",
       "      <td>...</td>\n",
       "      <td>NaN</td>\n",
       "      <td>NaN</td>\n",
       "      <td>NaN</td>\n",
       "      <td>NaN</td>\n",
       "      <td>NaN</td>\n",
       "      <td>NaN</td>\n",
       "      <td>NaN</td>\n",
       "      <td>NaN</td>\n",
       "      <td>NaN</td>\n",
       "      <td>NaN</td>\n",
       "    </tr>\n",
       "    <tr>\n",
       "      <th>1991-08-01</th>\n",
       "      <td>0.126174</td>\n",
       "      <td>0.123958</td>\n",
       "      <td>0.135141</td>\n",
       "      <td>0.163628</td>\n",
       "      <td>0.095318</td>\n",
       "      <td>0.070426</td>\n",
       "      <td>0.000000</td>\n",
       "      <td>0.014020</td>\n",
       "      <td>NaN</td>\n",
       "      <td>NaN</td>\n",
       "      <td>...</td>\n",
       "      <td>NaN</td>\n",
       "      <td>NaN</td>\n",
       "      <td>NaN</td>\n",
       "      <td>NaN</td>\n",
       "      <td>NaN</td>\n",
       "      <td>NaN</td>\n",
       "      <td>NaN</td>\n",
       "      <td>NaN</td>\n",
       "      <td>NaN</td>\n",
       "      <td>NaN</td>\n",
       "    </tr>\n",
       "    <tr>\n",
       "      <th>1991-09-01</th>\n",
       "      <td>0.092309</td>\n",
       "      <td>0.126174</td>\n",
       "      <td>0.123958</td>\n",
       "      <td>0.135141</td>\n",
       "      <td>0.163628</td>\n",
       "      <td>0.095318</td>\n",
       "      <td>0.070426</td>\n",
       "      <td>0.000000</td>\n",
       "      <td>0.014020</td>\n",
       "      <td>NaN</td>\n",
       "      <td>...</td>\n",
       "      <td>NaN</td>\n",
       "      <td>NaN</td>\n",
       "      <td>NaN</td>\n",
       "      <td>NaN</td>\n",
       "      <td>NaN</td>\n",
       "      <td>NaN</td>\n",
       "      <td>NaN</td>\n",
       "      <td>NaN</td>\n",
       "      <td>NaN</td>\n",
       "      <td>NaN</td>\n",
       "    </tr>\n",
       "    <tr>\n",
       "      <th>1991-10-01</th>\n",
       "      <td>0.111395</td>\n",
       "      <td>0.092309</td>\n",
       "      <td>0.126174</td>\n",
       "      <td>0.123958</td>\n",
       "      <td>0.135141</td>\n",
       "      <td>0.163628</td>\n",
       "      <td>0.095318</td>\n",
       "      <td>0.070426</td>\n",
       "      <td>0.000000</td>\n",
       "      <td>0.014020</td>\n",
       "      <td>...</td>\n",
       "      <td>NaN</td>\n",
       "      <td>NaN</td>\n",
       "      <td>NaN</td>\n",
       "      <td>NaN</td>\n",
       "      <td>NaN</td>\n",
       "      <td>NaN</td>\n",
       "      <td>NaN</td>\n",
       "      <td>NaN</td>\n",
       "      <td>NaN</td>\n",
       "      <td>NaN</td>\n",
       "    </tr>\n",
       "    <tr>\n",
       "      <th>1991-11-01</th>\n",
       "      <td>0.131738</td>\n",
       "      <td>0.111395</td>\n",
       "      <td>0.092309</td>\n",
       "      <td>0.126174</td>\n",
       "      <td>0.123958</td>\n",
       "      <td>0.135141</td>\n",
       "      <td>0.163628</td>\n",
       "      <td>0.095318</td>\n",
       "      <td>0.070426</td>\n",
       "      <td>0.000000</td>\n",
       "      <td>...</td>\n",
       "      <td>NaN</td>\n",
       "      <td>NaN</td>\n",
       "      <td>NaN</td>\n",
       "      <td>NaN</td>\n",
       "      <td>NaN</td>\n",
       "      <td>NaN</td>\n",
       "      <td>NaN</td>\n",
       "      <td>NaN</td>\n",
       "      <td>NaN</td>\n",
       "      <td>NaN</td>\n",
       "    </tr>\n",
       "    <tr>\n",
       "      <th>1991-12-01</th>\n",
       "      <td>0.200913</td>\n",
       "      <td>0.131738</td>\n",
       "      <td>0.111395</td>\n",
       "      <td>0.092309</td>\n",
       "      <td>0.126174</td>\n",
       "      <td>0.123958</td>\n",
       "      <td>0.135141</td>\n",
       "      <td>0.163628</td>\n",
       "      <td>0.095318</td>\n",
       "      <td>0.070426</td>\n",
       "      <td>...</td>\n",
       "      <td>NaN</td>\n",
       "      <td>NaN</td>\n",
       "      <td>NaN</td>\n",
       "      <td>NaN</td>\n",
       "      <td>NaN</td>\n",
       "      <td>NaN</td>\n",
       "      <td>NaN</td>\n",
       "      <td>NaN</td>\n",
       "      <td>NaN</td>\n",
       "      <td>NaN</td>\n",
       "    </tr>\n",
       "    <tr>\n",
       "      <th>1992-01-01</th>\n",
       "      <td>0.030027</td>\n",
       "      <td>0.200913</td>\n",
       "      <td>0.131738</td>\n",
       "      <td>0.111395</td>\n",
       "      <td>0.092309</td>\n",
       "      <td>0.126174</td>\n",
       "      <td>0.123958</td>\n",
       "      <td>0.135141</td>\n",
       "      <td>0.163628</td>\n",
       "      <td>0.095318</td>\n",
       "      <td>...</td>\n",
       "      <td>NaN</td>\n",
       "      <td>NaN</td>\n",
       "      <td>NaN</td>\n",
       "      <td>NaN</td>\n",
       "      <td>NaN</td>\n",
       "      <td>NaN</td>\n",
       "      <td>NaN</td>\n",
       "      <td>NaN</td>\n",
       "      <td>NaN</td>\n",
       "      <td>NaN</td>\n",
       "    </tr>\n",
       "    <tr>\n",
       "      <th>1992-02-01</th>\n",
       "      <td>0.019993</td>\n",
       "      <td>0.030027</td>\n",
       "      <td>0.200913</td>\n",
       "      <td>0.131738</td>\n",
       "      <td>0.111395</td>\n",
       "      <td>0.092309</td>\n",
       "      <td>0.126174</td>\n",
       "      <td>0.123958</td>\n",
       "      <td>0.135141</td>\n",
       "      <td>0.163628</td>\n",
       "      <td>...</td>\n",
       "      <td>NaN</td>\n",
       "      <td>NaN</td>\n",
       "      <td>NaN</td>\n",
       "      <td>NaN</td>\n",
       "      <td>NaN</td>\n",
       "      <td>NaN</td>\n",
       "      <td>NaN</td>\n",
       "      <td>NaN</td>\n",
       "      <td>NaN</td>\n",
       "      <td>NaN</td>\n",
       "    </tr>\n",
       "    <tr>\n",
       "      <th>1992-03-01</th>\n",
       "      <td>0.065964</td>\n",
       "      <td>0.019993</td>\n",
       "      <td>0.030027</td>\n",
       "      <td>0.200913</td>\n",
       "      <td>0.131738</td>\n",
       "      <td>0.111395</td>\n",
       "      <td>0.092309</td>\n",
       "      <td>0.126174</td>\n",
       "      <td>0.123958</td>\n",
       "      <td>0.135141</td>\n",
       "      <td>...</td>\n",
       "      <td>NaN</td>\n",
       "      <td>NaN</td>\n",
       "      <td>NaN</td>\n",
       "      <td>NaN</td>\n",
       "      <td>NaN</td>\n",
       "      <td>NaN</td>\n",
       "      <td>NaN</td>\n",
       "      <td>NaN</td>\n",
       "      <td>NaN</td>\n",
       "      <td>NaN</td>\n",
       "    </tr>\n",
       "    <tr>\n",
       "      <th>1992-04-01</th>\n",
       "      <td>0.109831</td>\n",
       "      <td>0.065964</td>\n",
       "      <td>0.019993</td>\n",
       "      <td>0.030027</td>\n",
       "      <td>0.200913</td>\n",
       "      <td>0.131738</td>\n",
       "      <td>0.111395</td>\n",
       "      <td>0.092309</td>\n",
       "      <td>0.126174</td>\n",
       "      <td>0.123958</td>\n",
       "      <td>...</td>\n",
       "      <td>0.014020</td>\n",
       "      <td>NaN</td>\n",
       "      <td>NaN</td>\n",
       "      <td>NaN</td>\n",
       "      <td>NaN</td>\n",
       "      <td>NaN</td>\n",
       "      <td>NaN</td>\n",
       "      <td>NaN</td>\n",
       "      <td>NaN</td>\n",
       "      <td>NaN</td>\n",
       "    </tr>\n",
       "    <tr>\n",
       "      <th>1992-05-01</th>\n",
       "      <td>0.149130</td>\n",
       "      <td>0.109831</td>\n",
       "      <td>0.065964</td>\n",
       "      <td>0.019993</td>\n",
       "      <td>0.030027</td>\n",
       "      <td>0.200913</td>\n",
       "      <td>0.131738</td>\n",
       "      <td>0.111395</td>\n",
       "      <td>0.092309</td>\n",
       "      <td>0.126174</td>\n",
       "      <td>...</td>\n",
       "      <td>0.000000</td>\n",
       "      <td>0.014020</td>\n",
       "      <td>NaN</td>\n",
       "      <td>NaN</td>\n",
       "      <td>NaN</td>\n",
       "      <td>NaN</td>\n",
       "      <td>NaN</td>\n",
       "      <td>NaN</td>\n",
       "      <td>NaN</td>\n",
       "      <td>NaN</td>\n",
       "    </tr>\n",
       "    <tr>\n",
       "      <th>1992-06-01</th>\n",
       "      <td>0.147189</td>\n",
       "      <td>0.149130</td>\n",
       "      <td>0.109831</td>\n",
       "      <td>0.065964</td>\n",
       "      <td>0.019993</td>\n",
       "      <td>0.030027</td>\n",
       "      <td>0.200913</td>\n",
       "      <td>0.131738</td>\n",
       "      <td>0.111395</td>\n",
       "      <td>0.092309</td>\n",
       "      <td>...</td>\n",
       "      <td>0.070426</td>\n",
       "      <td>0.000000</td>\n",
       "      <td>0.014020</td>\n",
       "      <td>NaN</td>\n",
       "      <td>NaN</td>\n",
       "      <td>NaN</td>\n",
       "      <td>NaN</td>\n",
       "      <td>NaN</td>\n",
       "      <td>NaN</td>\n",
       "      <td>NaN</td>\n",
       "    </tr>\n",
       "    <tr>\n",
       "      <th>1992-07-01</th>\n",
       "      <td>0.144648</td>\n",
       "      <td>0.147189</td>\n",
       "      <td>0.149130</td>\n",
       "      <td>0.109831</td>\n",
       "      <td>0.065964</td>\n",
       "      <td>0.019993</td>\n",
       "      <td>0.030027</td>\n",
       "      <td>0.200913</td>\n",
       "      <td>0.131738</td>\n",
       "      <td>0.111395</td>\n",
       "      <td>...</td>\n",
       "      <td>0.095318</td>\n",
       "      <td>0.070426</td>\n",
       "      <td>0.000000</td>\n",
       "      <td>0.014020</td>\n",
       "      <td>NaN</td>\n",
       "      <td>NaN</td>\n",
       "      <td>NaN</td>\n",
       "      <td>NaN</td>\n",
       "      <td>NaN</td>\n",
       "      <td>NaN</td>\n",
       "    </tr>\n",
       "    <tr>\n",
       "      <th>1992-08-01</th>\n",
       "      <td>0.118984</td>\n",
       "      <td>0.144648</td>\n",
       "      <td>0.147189</td>\n",
       "      <td>0.149130</td>\n",
       "      <td>0.109831</td>\n",
       "      <td>0.065964</td>\n",
       "      <td>0.019993</td>\n",
       "      <td>0.030027</td>\n",
       "      <td>0.200913</td>\n",
       "      <td>0.131738</td>\n",
       "      <td>...</td>\n",
       "      <td>0.163628</td>\n",
       "      <td>0.095318</td>\n",
       "      <td>0.070426</td>\n",
       "      <td>0.000000</td>\n",
       "      <td>0.014020</td>\n",
       "      <td>NaN</td>\n",
       "      <td>NaN</td>\n",
       "      <td>NaN</td>\n",
       "      <td>NaN</td>\n",
       "      <td>NaN</td>\n",
       "    </tr>\n",
       "    <tr>\n",
       "      <th>1992-09-01</th>\n",
       "      <td>0.118027</td>\n",
       "      <td>0.118984</td>\n",
       "      <td>0.144648</td>\n",
       "      <td>0.147189</td>\n",
       "      <td>0.149130</td>\n",
       "      <td>0.109831</td>\n",
       "      <td>0.065964</td>\n",
       "      <td>0.019993</td>\n",
       "      <td>0.030027</td>\n",
       "      <td>0.200913</td>\n",
       "      <td>...</td>\n",
       "      <td>0.135141</td>\n",
       "      <td>0.163628</td>\n",
       "      <td>0.095318</td>\n",
       "      <td>0.070426</td>\n",
       "      <td>0.000000</td>\n",
       "      <td>0.014020</td>\n",
       "      <td>NaN</td>\n",
       "      <td>NaN</td>\n",
       "      <td>NaN</td>\n",
       "      <td>NaN</td>\n",
       "    </tr>\n",
       "    <tr>\n",
       "      <th>1992-10-01</th>\n",
       "      <td>0.142221</td>\n",
       "      <td>0.118027</td>\n",
       "      <td>0.118984</td>\n",
       "      <td>0.144648</td>\n",
       "      <td>0.147189</td>\n",
       "      <td>0.149130</td>\n",
       "      <td>0.109831</td>\n",
       "      <td>0.065964</td>\n",
       "      <td>0.019993</td>\n",
       "      <td>0.030027</td>\n",
       "      <td>...</td>\n",
       "      <td>0.123958</td>\n",
       "      <td>0.135141</td>\n",
       "      <td>0.163628</td>\n",
       "      <td>0.095318</td>\n",
       "      <td>0.070426</td>\n",
       "      <td>0.000000</td>\n",
       "      <td>0.014020</td>\n",
       "      <td>NaN</td>\n",
       "      <td>NaN</td>\n",
       "      <td>NaN</td>\n",
       "    </tr>\n",
       "    <tr>\n",
       "      <th>1992-11-01</th>\n",
       "      <td>0.124592</td>\n",
       "      <td>0.142221</td>\n",
       "      <td>0.118027</td>\n",
       "      <td>0.118984</td>\n",
       "      <td>0.144648</td>\n",
       "      <td>0.147189</td>\n",
       "      <td>0.149130</td>\n",
       "      <td>0.109831</td>\n",
       "      <td>0.065964</td>\n",
       "      <td>0.019993</td>\n",
       "      <td>...</td>\n",
       "      <td>0.126174</td>\n",
       "      <td>0.123958</td>\n",
       "      <td>0.135141</td>\n",
       "      <td>0.163628</td>\n",
       "      <td>0.095318</td>\n",
       "      <td>0.070426</td>\n",
       "      <td>0.000000</td>\n",
       "      <td>0.014020</td>\n",
       "      <td>NaN</td>\n",
       "      <td>NaN</td>\n",
       "    </tr>\n",
       "    <tr>\n",
       "      <th>1992-12-01</th>\n",
       "      <td>0.242908</td>\n",
       "      <td>0.124592</td>\n",
       "      <td>0.142221</td>\n",
       "      <td>0.118027</td>\n",
       "      <td>0.118984</td>\n",
       "      <td>0.144648</td>\n",
       "      <td>0.147189</td>\n",
       "      <td>0.149130</td>\n",
       "      <td>0.109831</td>\n",
       "      <td>0.065964</td>\n",
       "      <td>...</td>\n",
       "      <td>0.092309</td>\n",
       "      <td>0.126174</td>\n",
       "      <td>0.123958</td>\n",
       "      <td>0.135141</td>\n",
       "      <td>0.163628</td>\n",
       "      <td>0.095318</td>\n",
       "      <td>0.070426</td>\n",
       "      <td>0.000000</td>\n",
       "      <td>0.01402</td>\n",
       "      <td>NaN</td>\n",
       "    </tr>\n",
       "    <tr>\n",
       "      <th>1993-01-01</th>\n",
       "      <td>0.048991</td>\n",
       "      <td>0.242908</td>\n",
       "      <td>0.124592</td>\n",
       "      <td>0.142221</td>\n",
       "      <td>0.118027</td>\n",
       "      <td>0.118984</td>\n",
       "      <td>0.144648</td>\n",
       "      <td>0.147189</td>\n",
       "      <td>0.149130</td>\n",
       "      <td>0.109831</td>\n",
       "      <td>...</td>\n",
       "      <td>0.111395</td>\n",
       "      <td>0.092309</td>\n",
       "      <td>0.126174</td>\n",
       "      <td>0.123958</td>\n",
       "      <td>0.135141</td>\n",
       "      <td>0.163628</td>\n",
       "      <td>0.095318</td>\n",
       "      <td>0.070426</td>\n",
       "      <td>0.00000</td>\n",
       "      <td>0.01402</td>\n",
       "    </tr>\n",
       "  </tbody>\n",
       "</table>\n",
       "<p>25 rows × 25 columns</p>\n",
       "</div>"
      ],
      "text/plain": [
       "               Scaled   shift_1   shift_2   shift_3   shift_4   shift_5  \\\n",
       "Adjustments                                                               \n",
       "1991-01-01   0.014020       NaN       NaN       NaN       NaN       NaN   \n",
       "1991-02-01   0.000000  0.014020       NaN       NaN       NaN       NaN   \n",
       "1991-03-01   0.070426  0.000000  0.014020       NaN       NaN       NaN   \n",
       "1991-04-01   0.095318  0.070426  0.000000  0.014020       NaN       NaN   \n",
       "1991-05-01   0.163628  0.095318  0.070426  0.000000  0.014020       NaN   \n",
       "1991-06-01   0.135141  0.163628  0.095318  0.070426  0.000000  0.014020   \n",
       "1991-07-01   0.123958  0.135141  0.163628  0.095318  0.070426  0.000000   \n",
       "1991-08-01   0.126174  0.123958  0.135141  0.163628  0.095318  0.070426   \n",
       "1991-09-01   0.092309  0.126174  0.123958  0.135141  0.163628  0.095318   \n",
       "1991-10-01   0.111395  0.092309  0.126174  0.123958  0.135141  0.163628   \n",
       "1991-11-01   0.131738  0.111395  0.092309  0.126174  0.123958  0.135141   \n",
       "1991-12-01   0.200913  0.131738  0.111395  0.092309  0.126174  0.123958   \n",
       "1992-01-01   0.030027  0.200913  0.131738  0.111395  0.092309  0.126174   \n",
       "1992-02-01   0.019993  0.030027  0.200913  0.131738  0.111395  0.092309   \n",
       "1992-03-01   0.065964  0.019993  0.030027  0.200913  0.131738  0.111395   \n",
       "1992-04-01   0.109831  0.065964  0.019993  0.030027  0.200913  0.131738   \n",
       "1992-05-01   0.149130  0.109831  0.065964  0.019993  0.030027  0.200913   \n",
       "1992-06-01   0.147189  0.149130  0.109831  0.065964  0.019993  0.030027   \n",
       "1992-07-01   0.144648  0.147189  0.149130  0.109831  0.065964  0.019993   \n",
       "1992-08-01   0.118984  0.144648  0.147189  0.149130  0.109831  0.065964   \n",
       "1992-09-01   0.118027  0.118984  0.144648  0.147189  0.149130  0.109831   \n",
       "1992-10-01   0.142221  0.118027  0.118984  0.144648  0.147189  0.149130   \n",
       "1992-11-01   0.124592  0.142221  0.118027  0.118984  0.144648  0.147189   \n",
       "1992-12-01   0.242908  0.124592  0.142221  0.118027  0.118984  0.144648   \n",
       "1993-01-01   0.048991  0.242908  0.124592  0.142221  0.118027  0.118984   \n",
       "\n",
       "              shift_6   shift_7   shift_8   shift_9    ...     shift_15  \\\n",
       "Adjustments                                            ...                \n",
       "1991-01-01        NaN       NaN       NaN       NaN    ...          NaN   \n",
       "1991-02-01        NaN       NaN       NaN       NaN    ...          NaN   \n",
       "1991-03-01        NaN       NaN       NaN       NaN    ...          NaN   \n",
       "1991-04-01        NaN       NaN       NaN       NaN    ...          NaN   \n",
       "1991-05-01        NaN       NaN       NaN       NaN    ...          NaN   \n",
       "1991-06-01        NaN       NaN       NaN       NaN    ...          NaN   \n",
       "1991-07-01   0.014020       NaN       NaN       NaN    ...          NaN   \n",
       "1991-08-01   0.000000  0.014020       NaN       NaN    ...          NaN   \n",
       "1991-09-01   0.070426  0.000000  0.014020       NaN    ...          NaN   \n",
       "1991-10-01   0.095318  0.070426  0.000000  0.014020    ...          NaN   \n",
       "1991-11-01   0.163628  0.095318  0.070426  0.000000    ...          NaN   \n",
       "1991-12-01   0.135141  0.163628  0.095318  0.070426    ...          NaN   \n",
       "1992-01-01   0.123958  0.135141  0.163628  0.095318    ...          NaN   \n",
       "1992-02-01   0.126174  0.123958  0.135141  0.163628    ...          NaN   \n",
       "1992-03-01   0.092309  0.126174  0.123958  0.135141    ...          NaN   \n",
       "1992-04-01   0.111395  0.092309  0.126174  0.123958    ...     0.014020   \n",
       "1992-05-01   0.131738  0.111395  0.092309  0.126174    ...     0.000000   \n",
       "1992-06-01   0.200913  0.131738  0.111395  0.092309    ...     0.070426   \n",
       "1992-07-01   0.030027  0.200913  0.131738  0.111395    ...     0.095318   \n",
       "1992-08-01   0.019993  0.030027  0.200913  0.131738    ...     0.163628   \n",
       "1992-09-01   0.065964  0.019993  0.030027  0.200913    ...     0.135141   \n",
       "1992-10-01   0.109831  0.065964  0.019993  0.030027    ...     0.123958   \n",
       "1992-11-01   0.149130  0.109831  0.065964  0.019993    ...     0.126174   \n",
       "1992-12-01   0.147189  0.149130  0.109831  0.065964    ...     0.092309   \n",
       "1993-01-01   0.144648  0.147189  0.149130  0.109831    ...     0.111395   \n",
       "\n",
       "             shift_16  shift_17  shift_18  shift_19  shift_20  shift_21  \\\n",
       "Adjustments                                                               \n",
       "1991-01-01        NaN       NaN       NaN       NaN       NaN       NaN   \n",
       "1991-02-01        NaN       NaN       NaN       NaN       NaN       NaN   \n",
       "1991-03-01        NaN       NaN       NaN       NaN       NaN       NaN   \n",
       "1991-04-01        NaN       NaN       NaN       NaN       NaN       NaN   \n",
       "1991-05-01        NaN       NaN       NaN       NaN       NaN       NaN   \n",
       "1991-06-01        NaN       NaN       NaN       NaN       NaN       NaN   \n",
       "1991-07-01        NaN       NaN       NaN       NaN       NaN       NaN   \n",
       "1991-08-01        NaN       NaN       NaN       NaN       NaN       NaN   \n",
       "1991-09-01        NaN       NaN       NaN       NaN       NaN       NaN   \n",
       "1991-10-01        NaN       NaN       NaN       NaN       NaN       NaN   \n",
       "1991-11-01        NaN       NaN       NaN       NaN       NaN       NaN   \n",
       "1991-12-01        NaN       NaN       NaN       NaN       NaN       NaN   \n",
       "1992-01-01        NaN       NaN       NaN       NaN       NaN       NaN   \n",
       "1992-02-01        NaN       NaN       NaN       NaN       NaN       NaN   \n",
       "1992-03-01        NaN       NaN       NaN       NaN       NaN       NaN   \n",
       "1992-04-01        NaN       NaN       NaN       NaN       NaN       NaN   \n",
       "1992-05-01   0.014020       NaN       NaN       NaN       NaN       NaN   \n",
       "1992-06-01   0.000000  0.014020       NaN       NaN       NaN       NaN   \n",
       "1992-07-01   0.070426  0.000000  0.014020       NaN       NaN       NaN   \n",
       "1992-08-01   0.095318  0.070426  0.000000  0.014020       NaN       NaN   \n",
       "1992-09-01   0.163628  0.095318  0.070426  0.000000  0.014020       NaN   \n",
       "1992-10-01   0.135141  0.163628  0.095318  0.070426  0.000000  0.014020   \n",
       "1992-11-01   0.123958  0.135141  0.163628  0.095318  0.070426  0.000000   \n",
       "1992-12-01   0.126174  0.123958  0.135141  0.163628  0.095318  0.070426   \n",
       "1993-01-01   0.092309  0.126174  0.123958  0.135141  0.163628  0.095318   \n",
       "\n",
       "             shift_22  shift_23  shift_24  \n",
       "Adjustments                                \n",
       "1991-01-01        NaN       NaN       NaN  \n",
       "1991-02-01        NaN       NaN       NaN  \n",
       "1991-03-01        NaN       NaN       NaN  \n",
       "1991-04-01        NaN       NaN       NaN  \n",
       "1991-05-01        NaN       NaN       NaN  \n",
       "1991-06-01        NaN       NaN       NaN  \n",
       "1991-07-01        NaN       NaN       NaN  \n",
       "1991-08-01        NaN       NaN       NaN  \n",
       "1991-09-01        NaN       NaN       NaN  \n",
       "1991-10-01        NaN       NaN       NaN  \n",
       "1991-11-01        NaN       NaN       NaN  \n",
       "1991-12-01        NaN       NaN       NaN  \n",
       "1992-01-01        NaN       NaN       NaN  \n",
       "1992-02-01        NaN       NaN       NaN  \n",
       "1992-03-01        NaN       NaN       NaN  \n",
       "1992-04-01        NaN       NaN       NaN  \n",
       "1992-05-01        NaN       NaN       NaN  \n",
       "1992-06-01        NaN       NaN       NaN  \n",
       "1992-07-01        NaN       NaN       NaN  \n",
       "1992-08-01        NaN       NaN       NaN  \n",
       "1992-09-01        NaN       NaN       NaN  \n",
       "1992-10-01        NaN       NaN       NaN  \n",
       "1992-11-01   0.014020       NaN       NaN  \n",
       "1992-12-01   0.000000   0.01402       NaN  \n",
       "1993-01-01   0.070426   0.00000   0.01402  \n",
       "\n",
       "[25 rows x 25 columns]"
      ]
     },
     "execution_count": 28,
     "metadata": {},
     "output_type": "execute_result"
    }
   ],
   "source": [
    "train_sc_df.head(lags)"
   ]
  },
  {
   "cell_type": "code",
   "execution_count": 29,
   "metadata": {
    "collapsed": true
   },
   "outputs": [],
   "source": [
    "X_train = train_sc_df.dropna().drop('Scaled', axis = 1)\n",
    "y_train = train_sc_df.dropna()[['Scaled']]\n",
    "\n",
    "X_test = test_sc_df.dropna().drop('Scaled', axis = 1)\n",
    "y_test = test_sc_df.dropna()[['Scaled']]"
   ]
  },
  {
   "cell_type": "code",
   "execution_count": 30,
   "metadata": {},
   "outputs": [
    {
     "data": {
      "text/html": [
       "<div>\n",
       "<style>\n",
       "    .dataframe thead tr:only-child th {\n",
       "        text-align: right;\n",
       "    }\n",
       "\n",
       "    .dataframe thead th {\n",
       "        text-align: left;\n",
       "    }\n",
       "\n",
       "    .dataframe tbody tr th {\n",
       "        vertical-align: top;\n",
       "    }\n",
       "</style>\n",
       "<table border=\"1\" class=\"dataframe\">\n",
       "  <thead>\n",
       "    <tr style=\"text-align: right;\">\n",
       "      <th></th>\n",
       "      <th>shift_1</th>\n",
       "      <th>shift_2</th>\n",
       "      <th>shift_3</th>\n",
       "      <th>shift_4</th>\n",
       "      <th>shift_5</th>\n",
       "      <th>shift_6</th>\n",
       "      <th>shift_7</th>\n",
       "      <th>shift_8</th>\n",
       "      <th>shift_9</th>\n",
       "      <th>shift_10</th>\n",
       "      <th>...</th>\n",
       "      <th>shift_15</th>\n",
       "      <th>shift_16</th>\n",
       "      <th>shift_17</th>\n",
       "      <th>shift_18</th>\n",
       "      <th>shift_19</th>\n",
       "      <th>shift_20</th>\n",
       "      <th>shift_21</th>\n",
       "      <th>shift_22</th>\n",
       "      <th>shift_23</th>\n",
       "      <th>shift_24</th>\n",
       "    </tr>\n",
       "    <tr>\n",
       "      <th>Adjustments</th>\n",
       "      <th></th>\n",
       "      <th></th>\n",
       "      <th></th>\n",
       "      <th></th>\n",
       "      <th></th>\n",
       "      <th></th>\n",
       "      <th></th>\n",
       "      <th></th>\n",
       "      <th></th>\n",
       "      <th></th>\n",
       "      <th></th>\n",
       "      <th></th>\n",
       "      <th></th>\n",
       "      <th></th>\n",
       "      <th></th>\n",
       "      <th></th>\n",
       "      <th></th>\n",
       "      <th></th>\n",
       "      <th></th>\n",
       "      <th></th>\n",
       "      <th></th>\n",
       "    </tr>\n",
       "  </thead>\n",
       "  <tbody>\n",
       "    <tr>\n",
       "      <th>1993-01-01</th>\n",
       "      <td>0.242908</td>\n",
       "      <td>0.124592</td>\n",
       "      <td>0.142221</td>\n",
       "      <td>0.118027</td>\n",
       "      <td>0.118984</td>\n",
       "      <td>0.144648</td>\n",
       "      <td>0.147189</td>\n",
       "      <td>0.149130</td>\n",
       "      <td>0.109831</td>\n",
       "      <td>0.065964</td>\n",
       "      <td>...</td>\n",
       "      <td>0.111395</td>\n",
       "      <td>0.092309</td>\n",
       "      <td>0.126174</td>\n",
       "      <td>0.123958</td>\n",
       "      <td>0.135141</td>\n",
       "      <td>0.163628</td>\n",
       "      <td>0.095318</td>\n",
       "      <td>0.070426</td>\n",
       "      <td>0.000000</td>\n",
       "      <td>0.014020</td>\n",
       "    </tr>\n",
       "    <tr>\n",
       "      <th>1993-02-01</th>\n",
       "      <td>0.048991</td>\n",
       "      <td>0.242908</td>\n",
       "      <td>0.124592</td>\n",
       "      <td>0.142221</td>\n",
       "      <td>0.118027</td>\n",
       "      <td>0.118984</td>\n",
       "      <td>0.144648</td>\n",
       "      <td>0.147189</td>\n",
       "      <td>0.149130</td>\n",
       "      <td>0.109831</td>\n",
       "      <td>...</td>\n",
       "      <td>0.131738</td>\n",
       "      <td>0.111395</td>\n",
       "      <td>0.092309</td>\n",
       "      <td>0.126174</td>\n",
       "      <td>0.123958</td>\n",
       "      <td>0.135141</td>\n",
       "      <td>0.163628</td>\n",
       "      <td>0.095318</td>\n",
       "      <td>0.070426</td>\n",
       "      <td>0.000000</td>\n",
       "    </tr>\n",
       "    <tr>\n",
       "      <th>1993-03-01</th>\n",
       "      <td>0.024083</td>\n",
       "      <td>0.048991</td>\n",
       "      <td>0.242908</td>\n",
       "      <td>0.124592</td>\n",
       "      <td>0.142221</td>\n",
       "      <td>0.118027</td>\n",
       "      <td>0.118984</td>\n",
       "      <td>0.144648</td>\n",
       "      <td>0.147189</td>\n",
       "      <td>0.149130</td>\n",
       "      <td>...</td>\n",
       "      <td>0.200913</td>\n",
       "      <td>0.131738</td>\n",
       "      <td>0.111395</td>\n",
       "      <td>0.092309</td>\n",
       "      <td>0.126174</td>\n",
       "      <td>0.123958</td>\n",
       "      <td>0.135141</td>\n",
       "      <td>0.163628</td>\n",
       "      <td>0.095318</td>\n",
       "      <td>0.070426</td>\n",
       "    </tr>\n",
       "    <tr>\n",
       "      <th>1993-04-01</th>\n",
       "      <td>0.098651</td>\n",
       "      <td>0.024083</td>\n",
       "      <td>0.048991</td>\n",
       "      <td>0.242908</td>\n",
       "      <td>0.124592</td>\n",
       "      <td>0.142221</td>\n",
       "      <td>0.118027</td>\n",
       "      <td>0.118984</td>\n",
       "      <td>0.144648</td>\n",
       "      <td>0.147189</td>\n",
       "      <td>...</td>\n",
       "      <td>0.030027</td>\n",
       "      <td>0.200913</td>\n",
       "      <td>0.131738</td>\n",
       "      <td>0.111395</td>\n",
       "      <td>0.092309</td>\n",
       "      <td>0.126174</td>\n",
       "      <td>0.123958</td>\n",
       "      <td>0.135141</td>\n",
       "      <td>0.163628</td>\n",
       "      <td>0.095318</td>\n",
       "    </tr>\n",
       "    <tr>\n",
       "      <th>1993-05-01</th>\n",
       "      <td>0.144802</td>\n",
       "      <td>0.098651</td>\n",
       "      <td>0.024083</td>\n",
       "      <td>0.048991</td>\n",
       "      <td>0.242908</td>\n",
       "      <td>0.124592</td>\n",
       "      <td>0.142221</td>\n",
       "      <td>0.118027</td>\n",
       "      <td>0.118984</td>\n",
       "      <td>0.144648</td>\n",
       "      <td>...</td>\n",
       "      <td>0.019993</td>\n",
       "      <td>0.030027</td>\n",
       "      <td>0.200913</td>\n",
       "      <td>0.131738</td>\n",
       "      <td>0.111395</td>\n",
       "      <td>0.092309</td>\n",
       "      <td>0.126174</td>\n",
       "      <td>0.123958</td>\n",
       "      <td>0.135141</td>\n",
       "      <td>0.163628</td>\n",
       "    </tr>\n",
       "  </tbody>\n",
       "</table>\n",
       "<p>5 rows × 24 columns</p>\n",
       "</div>"
      ],
      "text/plain": [
       "              shift_1   shift_2   shift_3   shift_4   shift_5   shift_6  \\\n",
       "Adjustments                                                               \n",
       "1993-01-01   0.242908  0.124592  0.142221  0.118027  0.118984  0.144648   \n",
       "1993-02-01   0.048991  0.242908  0.124592  0.142221  0.118027  0.118984   \n",
       "1993-03-01   0.024083  0.048991  0.242908  0.124592  0.142221  0.118027   \n",
       "1993-04-01   0.098651  0.024083  0.048991  0.242908  0.124592  0.142221   \n",
       "1993-05-01   0.144802  0.098651  0.024083  0.048991  0.242908  0.124592   \n",
       "\n",
       "              shift_7   shift_8   shift_9  shift_10    ...     shift_15  \\\n",
       "Adjustments                                            ...                \n",
       "1993-01-01   0.147189  0.149130  0.109831  0.065964    ...     0.111395   \n",
       "1993-02-01   0.144648  0.147189  0.149130  0.109831    ...     0.131738   \n",
       "1993-03-01   0.118984  0.144648  0.147189  0.149130    ...     0.200913   \n",
       "1993-04-01   0.118027  0.118984  0.144648  0.147189    ...     0.030027   \n",
       "1993-05-01   0.142221  0.118027  0.118984  0.144648    ...     0.019993   \n",
       "\n",
       "             shift_16  shift_17  shift_18  shift_19  shift_20  shift_21  \\\n",
       "Adjustments                                                               \n",
       "1993-01-01   0.092309  0.126174  0.123958  0.135141  0.163628  0.095318   \n",
       "1993-02-01   0.111395  0.092309  0.126174  0.123958  0.135141  0.163628   \n",
       "1993-03-01   0.131738  0.111395  0.092309  0.126174  0.123958  0.135141   \n",
       "1993-04-01   0.200913  0.131738  0.111395  0.092309  0.126174  0.123958   \n",
       "1993-05-01   0.030027  0.200913  0.131738  0.111395  0.092309  0.126174   \n",
       "\n",
       "             shift_22  shift_23  shift_24  \n",
       "Adjustments                                \n",
       "1993-01-01   0.070426  0.000000  0.014020  \n",
       "1993-02-01   0.095318  0.070426  0.000000  \n",
       "1993-03-01   0.163628  0.095318  0.070426  \n",
       "1993-04-01   0.135141  0.163628  0.095318  \n",
       "1993-05-01   0.123958  0.135141  0.163628  \n",
       "\n",
       "[5 rows x 24 columns]"
      ]
     },
     "execution_count": 30,
     "metadata": {},
     "output_type": "execute_result"
    }
   ],
   "source": [
    "X_train.head()"
   ]
  },
  {
   "cell_type": "code",
   "execution_count": 31,
   "metadata": {
    "collapsed": true
   },
   "outputs": [],
   "source": [
    "X_train = X_train.values\n",
    "y_train = y_train.values\n",
    "\n",
    "X_test = X_test.values\n",
    "y_test = y_test.values"
   ]
  },
  {
   "cell_type": "markdown",
   "metadata": {},
   "source": [
    "### Fully Connected on Windows"
   ]
  },
  {
   "cell_type": "code",
   "execution_count": 32,
   "metadata": {},
   "outputs": [
    {
     "name": "stdout",
     "output_type": "stream",
     "text": [
      "_________________________________________________________________\n",
      "Layer (type)                 Output Shape              Param #   \n",
      "=================================================================\n",
      "dense_1 (Dense)              (None, 16)                400       \n",
      "_________________________________________________________________\n",
      "dense_2 (Dense)              (None, 1)                 17        \n",
      "=================================================================\n",
      "Total params: 417\n",
      "Trainable params: 417\n",
      "Non-trainable params: 0\n",
      "_________________________________________________________________\n"
     ]
    }
   ],
   "source": [
    "K.clear_session()\n",
    "\n",
    "model = Sequential()\n",
    "model.add(Dense(16,input_dim=lags-1,activation = 'relu'))\n",
    "model.add(Dense(1))\n",
    "model.compile(Adam(lr=0.001),loss = 'mse')\n",
    "model.summary()"
   ]
  },
  {
   "cell_type": "code",
   "execution_count": 33,
   "metadata": {},
   "outputs": [
    {
     "name": "stdout",
     "output_type": "stream",
     "text": [
      "Train on 195 samples, validate on 22 samples\n",
      "Epoch 1/200\n",
      "195/195 [==============================] - 0s 2ms/step - loss: 0.0645 - val_loss: 0.0100\n",
      "Epoch 2/200\n",
      "195/195 [==============================] - 0s 1ms/step - loss: 0.0057 - val_loss: 0.0076\n",
      "Epoch 3/200\n",
      "195/195 [==============================] - 0s 1ms/step - loss: 0.0043 - val_loss: 0.0057\n",
      "Epoch 4/200\n",
      "195/195 [==============================] - 0s 1ms/step - loss: 0.0033 - val_loss: 0.0067\n",
      "Epoch 5/200\n",
      "195/195 [==============================] - 0s 1ms/step - loss: 0.0026 - val_loss: 0.0052\n",
      "Epoch 6/200\n",
      "195/195 [==============================] - 0s 1ms/step - loss: 0.0023 - val_loss: 0.0115\n",
      "Epoch 7/200\n",
      "195/195 [==============================] - 0s 1ms/step - loss: 0.0021 - val_loss: 0.0163\n",
      "Epoch 8/200\n",
      "195/195 [==============================] - 0s 1ms/step - loss: 0.0016 - val_loss: 0.0116\n",
      "Epoch 9/200\n",
      "195/195 [==============================] - 0s 1ms/step - loss: 0.0013 - val_loss: 0.0137\n",
      "Epoch 10/200\n",
      "195/195 [==============================] - 0s 1ms/step - loss: 0.0011 - val_loss: 0.0128\n",
      "Epoch 11/200\n",
      "195/195 [==============================] - 0s 1ms/step - loss: 0.0012 - val_loss: 0.0081\n",
      "Epoch 12/200\n",
      "195/195 [==============================] - 0s 1ms/step - loss: 9.7152e-04 - val_loss: 0.0102\n",
      "Epoch 13/200\n",
      "195/195 [==============================] - 0s 1ms/step - loss: 9.9228e-04 - val_loss: 0.0055\n",
      "Epoch 14/200\n",
      "195/195 [==============================] - 0s 1ms/step - loss: 8.7581e-04 - val_loss: 0.0050\n",
      "Epoch 15/200\n",
      "195/195 [==============================] - 0s 1ms/step - loss: 8.7166e-04 - val_loss: 0.0096\n",
      "Epoch 16/200\n",
      "195/195 [==============================] - 0s 1ms/step - loss: 8.3482e-04 - val_loss: 0.0067\n",
      "Epoch 17/200\n",
      "195/195 [==============================] - 0s 1ms/step - loss: 7.9759e-04 - val_loss: 0.0091\n",
      "Epoch 18/200\n",
      "195/195 [==============================] - 0s 1ms/step - loss: 0.0011 - val_loss: 0.0100\n",
      "Epoch 19/200\n",
      "195/195 [==============================] - 0s 1ms/step - loss: 0.0012 - val_loss: 0.0091\n",
      "Epoch 20/200\n",
      "195/195 [==============================] - 0s 1ms/step - loss: 8.1076e-04 - val_loss: 0.0044\n",
      "Epoch 21/200\n",
      "195/195 [==============================] - 0s 1ms/step - loss: 7.4436e-04 - val_loss: 0.0130\n",
      "Epoch 22/200\n",
      "195/195 [==============================] - 0s 1ms/step - loss: 9.6778e-04 - val_loss: 0.0080\n",
      "Epoch 23/200\n",
      "195/195 [==============================] - 0s 1ms/step - loss: 9.5078e-04 - val_loss: 0.0076\n",
      "Epoch 24/200\n",
      "195/195 [==============================] - 0s 1ms/step - loss: 0.0011 - val_loss: 0.0237\n",
      "Epoch 25/200\n",
      "195/195 [==============================] - 0s 1ms/step - loss: 8.0607e-04 - val_loss: 0.0076\n",
      "Epoch 26/200\n",
      "195/195 [==============================] - 0s 1ms/step - loss: 7.0031e-04 - val_loss: 0.0073\n",
      "Epoch 27/200\n",
      "195/195 [==============================] - 0s 1ms/step - loss: 7.7771e-04 - val_loss: 0.0080\n",
      "Epoch 28/200\n",
      "195/195 [==============================] - 0s 1ms/step - loss: 6.7915e-04 - val_loss: 0.0155\n",
      "Epoch 29/200\n",
      "195/195 [==============================] - 0s 1ms/step - loss: 6.6657e-04 - val_loss: 0.0129\n",
      "Epoch 30/200\n",
      "195/195 [==============================] - 0s 1ms/step - loss: 7.8471e-04 - val_loss: 0.0075\n",
      "Epoch 31/200\n",
      "195/195 [==============================] - 0s 1ms/step - loss: 7.7380e-04 - val_loss: 0.0039\n",
      "Epoch 32/200\n",
      "195/195 [==============================] - 0s 1ms/step - loss: 0.0010 - val_loss: 0.0248\n",
      "Epoch 33/200\n",
      "195/195 [==============================] - 0s 1ms/step - loss: 8.2863e-04 - val_loss: 0.0064\n",
      "Epoch 34/200\n",
      "195/195 [==============================] - 0s 1ms/step - loss: 6.5124e-04 - val_loss: 0.0044\n",
      "Epoch 35/200\n",
      "195/195 [==============================] - 0s 1ms/step - loss: 6.9612e-04 - val_loss: 0.0172\n",
      "Epoch 36/200\n",
      "195/195 [==============================] - 0s 1ms/step - loss: 7.7220e-04 - val_loss: 0.0090\n",
      "Epoch 37/200\n",
      "195/195 [==============================] - 0s 1ms/step - loss: 7.3166e-04 - val_loss: 0.0041\n",
      "Epoch 38/200\n",
      "195/195 [==============================] - 0s 1ms/step - loss: 6.9250e-04 - val_loss: 0.0085\n",
      "Epoch 39/200\n",
      "195/195 [==============================] - 0s 1ms/step - loss: 8.4355e-04 - val_loss: 0.0029\n",
      "Epoch 40/200\n",
      "195/195 [==============================] - 0s 1ms/step - loss: 7.6515e-04 - val_loss: 0.0067\n",
      "Epoch 41/200\n",
      "195/195 [==============================] - 0s 1ms/step - loss: 6.1251e-04 - val_loss: 0.0140\n",
      "Epoch 42/200\n",
      "195/195 [==============================] - 0s 1ms/step - loss: 6.7205e-04 - val_loss: 0.0068\n",
      "Epoch 43/200\n",
      "195/195 [==============================] - 0s 1ms/step - loss: 7.4981e-04 - val_loss: 0.0031\n",
      "Epoch 44/200\n",
      "195/195 [==============================] - 0s 1ms/step - loss: 6.3109e-04 - val_loss: 0.0030\n",
      "Epoch 45/200\n",
      "195/195 [==============================] - 0s 1ms/step - loss: 7.8272e-04 - val_loss: 0.0063\n",
      "Epoch 46/200\n",
      "195/195 [==============================] - 0s 1ms/step - loss: 6.4401e-04 - val_loss: 0.0053\n",
      "Epoch 47/200\n",
      "195/195 [==============================] - 0s 1ms/step - loss: 6.1889e-04 - val_loss: 0.0021\n",
      "Epoch 48/200\n",
      "195/195 [==============================] - 0s 1ms/step - loss: 7.1347e-04 - val_loss: 0.0032\n",
      "Epoch 49/200\n",
      "195/195 [==============================] - 0s 1ms/step - loss: 9.8865e-04 - val_loss: 0.0111\n",
      "Epoch 50/200\n",
      "195/195 [==============================] - 0s 1ms/step - loss: 0.0011 - val_loss: 0.0054\n",
      "Epoch 51/200\n",
      "195/195 [==============================] - 0s 1ms/step - loss: 6.7086e-04 - val_loss: 0.0083\n",
      "Epoch 00051: early stopping\n"
     ]
    },
    {
     "data": {
      "text/plain": [
       "<keras.callbacks.History at 0x1f7e2214b00>"
      ]
     },
     "execution_count": 33,
     "metadata": {},
     "output_type": "execute_result"
    }
   ],
   "source": [
    "model.fit(X_train, y_train, epochs=200,\n",
    "          batch_size=2, verbose=1,\n",
    "          validation_split=0.1,\n",
    "          callbacks=[early_stop])"
   ]
  },
  {
   "cell_type": "code",
   "execution_count": 34,
   "metadata": {},
   "outputs": [
    {
     "data": {
      "text/plain": [
       "[<matplotlib.lines.Line2D at 0x1f7e23f2a20>]"
      ]
     },
     "execution_count": 34,
     "metadata": {},
     "output_type": "execute_result"
    },
    {
     "data": {
      "image/png": "[encoded data removed]",
      "text/plain": [
       "<matplotlib.figure.Figure at 0x1f7e236d550>"
      ]
     },
     "metadata": {},
     "output_type": "display_data"
    }
   ],
   "source": [
    "y_pred = model.predict(X_test)\n",
    "plt.plot(y_test)\n",
    "plt.plot(y_pred)"
   ]
  },
  {
   "cell_type": "code",
   "execution_count": 35,
   "metadata": {},
   "outputs": [
    {
     "name": "stdout",
     "output_type": "stream",
     "text": [
      "MAPE: 5.3742216767%\n"
     ]
    }
   ],
   "source": [
    "print(\"MAPE: \" + str(np.mean(np.abs(y_test-y_pred)/y_test)*100) + \"%\")"
   ]
  },
  {
   "cell_type": "markdown",
   "metadata": {},
   "source": [
    "### LSTM on Windows"
   ]
  },
  {
   "cell_type": "code",
   "execution_count": 36,
   "metadata": {},
   "outputs": [],
   "source": [
    "X_train_t = X_train.reshape(X_train.shape[0],1,lags-1)\n",
    "X_test_t = X_test.reshape(X_test.shape[0],1,lags-1)"
   ]
  },
  {
   "cell_type": "code",
   "execution_count": 37,
   "metadata": {},
   "outputs": [
    {
     "data": {
      "text/plain": [
       "(217, 1, 24)"
      ]
     },
     "execution_count": 37,
     "metadata": {},
     "output_type": "execute_result"
    }
   ],
   "source": [
    "X_train_t.shape"
   ]
  },
  {
   "cell_type": "code",
   "execution_count": 38,
   "metadata": {
    "collapsed": true
   },
   "outputs": [],
   "source": [
    "K.clear_session()\n",
    "model = Sequential()\n",
    "model.add(LSTM(20,input_shape = (1,lags-1)))\n",
    "model.add(Dense(1))\n",
    "model.compile(Adam(lr=0.001),loss = 'mse')"
   ]
  },
  {
   "cell_type": "code",
   "execution_count": 39,
   "metadata": {},
   "outputs": [
    {
     "name": "stdout",
     "output_type": "stream",
     "text": [
      "_________________________________________________________________\n",
      "Layer (type)                 Output Shape              Param #   \n",
      "=================================================================\n",
      "lstm_1 (LSTM)                (None, 20)                3600      \n",
      "_________________________________________________________________\n",
      "dense_1 (Dense)              (None, 1)                 21        \n",
      "=================================================================\n",
      "Total params: 3,621\n",
      "Trainable params: 3,621\n",
      "Non-trainable params: 0\n",
      "_________________________________________________________________\n"
     ]
    }
   ],
   "source": [
    "model.summary()"
   ]
  },
  {
   "cell_type": "code",
   "execution_count": 40,
   "metadata": {},
   "outputs": [
    {
     "name": "stdout",
     "output_type": "stream",
     "text": [
      "Train on 195 samples, validate on 22 samples\n",
      "Epoch 1/100\n",
      "195/195 [==============================] - 2s 8ms/step - loss: 0.0341 - val_loss: 0.0103\n",
      "Epoch 2/100\n",
      "195/195 [==============================] - 1s 5ms/step - loss: 0.0072 - val_loss: 0.0084\n",
      "Epoch 3/100\n",
      "195/195 [==============================] - 1s 5ms/step - loss: 0.0062 - val_loss: 0.0119\n",
      "Epoch 4/100\n",
      "195/195 [==============================] - 1s 5ms/step - loss: 0.0053 - val_loss: 0.0052\n",
      "Epoch 5/100\n",
      "195/195 [==============================] - 1s 5ms/step - loss: 0.0040 - val_loss: 0.0038\n",
      "Epoch 6/100\n",
      "195/195 [==============================] - 1s 5ms/step - loss: 0.0026 - val_loss: 0.0070\n",
      "Epoch 7/100\n",
      "195/195 [==============================] - 1s 5ms/step - loss: 0.0024 - val_loss: 0.0034\n",
      "Epoch 8/100\n",
      "195/195 [==============================] - 1s 5ms/step - loss: 0.0018 - val_loss: 0.0029\n",
      "Epoch 9/100\n",
      "195/195 [==============================] - 1s 4ms/step - loss: 0.0015 - val_loss: 0.0031\n",
      "Epoch 10/100\n",
      "195/195 [==============================] - 1s 5ms/step - loss: 0.0012 - val_loss: 0.0040\n",
      "Epoch 11/100\n",
      "195/195 [==============================] - 1s 5ms/step - loss: 0.0013 - val_loss: 0.0029\n",
      "Epoch 12/100\n",
      "195/195 [==============================] - 1s 5ms/step - loss: 0.0014 - val_loss: 0.0053\n",
      "Epoch 13/100\n",
      "195/195 [==============================] - 1s 5ms/step - loss: 0.0012 - val_loss: 0.0058\n",
      "Epoch 14/100\n",
      "195/195 [==============================] - 1s 5ms/step - loss: 0.0011 - val_loss: 0.0094\n",
      "Epoch 15/100\n",
      "195/195 [==============================] - 1s 5ms/step - loss: 0.0010 - val_loss: 0.0052\n",
      "Epoch 16/100\n",
      "195/195 [==============================] - 1s 5ms/step - loss: 9.9242e-04 - val_loss: 0.0027\n",
      "Epoch 17/100\n",
      "195/195 [==============================] - 1s 5ms/step - loss: 9.9646e-04 - val_loss: 0.0025\n",
      "Epoch 18/100\n",
      "195/195 [==============================] - 1s 5ms/step - loss: 0.0011 - val_loss: 0.0025\n",
      "Epoch 19/100\n",
      "195/195 [==============================] - 1s 5ms/step - loss: 9.5285e-04 - val_loss: 0.0029\n",
      "Epoch 20/100\n",
      "195/195 [==============================] - 1s 5ms/step - loss: 0.0011 - val_loss: 0.0031\n",
      "Epoch 21/100\n",
      "195/195 [==============================] - 1s 5ms/step - loss: 8.6303e-04 - val_loss: 0.0025\n",
      "Epoch 22/100\n",
      "195/195 [==============================] - 1s 5ms/step - loss: 8.6910e-04 - val_loss: 0.0041\n",
      "Epoch 23/100\n",
      "195/195 [==============================] - 1s 5ms/step - loss: 8.3471e-04 - val_loss: 0.0054\n",
      "Epoch 24/100\n",
      "195/195 [==============================] - 1s 5ms/step - loss: 0.0011 - val_loss: 0.0050\n",
      "Epoch 25/100\n",
      "195/195 [==============================] - 1s 5ms/step - loss: 8.8401e-04 - val_loss: 0.0028\n",
      "Epoch 26/100\n",
      "195/195 [==============================] - 1s 5ms/step - loss: 7.8900e-04 - val_loss: 0.0046\n",
      "Epoch 27/100\n",
      "195/195 [==============================] - 1s 5ms/step - loss: 8.2597e-04 - val_loss: 0.0047\n",
      "Epoch 28/100\n",
      "195/195 [==============================] - 1s 5ms/step - loss: 7.3332e-04 - val_loss: 0.0037\n",
      "Epoch 29/100\n",
      "195/195 [==============================] - 1s 5ms/step - loss: 7.6773e-04 - val_loss: 0.0030\n",
      "Epoch 30/100\n",
      "195/195 [==============================] - 1s 5ms/step - loss: 8.4039e-04 - val_loss: 0.0038\n",
      "Epoch 31/100\n",
      "195/195 [==============================] - 1s 5ms/step - loss: 6.5883e-04 - val_loss: 0.0098\n",
      "Epoch 32/100\n",
      "195/195 [==============================] - 1s 5ms/step - loss: 7.5119e-04 - val_loss: 0.0022\n",
      "Epoch 33/100\n",
      "195/195 [==============================] - 1s 5ms/step - loss: 6.5779e-04 - val_loss: 0.0022\n",
      "Epoch 34/100\n",
      "195/195 [==============================] - 1s 5ms/step - loss: 7.1917e-04 - val_loss: 0.0028\n",
      "Epoch 35/100\n",
      "195/195 [==============================] - 1s 5ms/step - loss: 7.3129e-04 - val_loss: 0.0097\n",
      "Epoch 36/100\n",
      "195/195 [==============================] - 1s 5ms/step - loss: 9.3666e-04 - val_loss: 0.0022\n",
      "Epoch 37/100\n",
      "195/195 [==============================] - 1s 5ms/step - loss: 7.8431e-04 - val_loss: 0.0084\n",
      "Epoch 38/100\n",
      "195/195 [==============================] - 1s 5ms/step - loss: 7.7130e-04 - val_loss: 0.0035\n",
      "Epoch 39/100\n",
      "195/195 [==============================] - 1s 5ms/step - loss: 8.2383e-04 - val_loss: 0.0034\n",
      "Epoch 40/100\n",
      "195/195 [==============================] - 1s 5ms/step - loss: 7.8934e-04 - val_loss: 0.0033\n",
      "Epoch 41/100\n",
      "195/195 [==============================] - 1s 5ms/step - loss: 7.8341e-04 - val_loss: 0.0024\n",
      "Epoch 42/100\n",
      "195/195 [==============================] - 1s 5ms/step - loss: 8.1142e-04 - val_loss: 0.0023\n",
      "Epoch 43/100\n",
      "195/195 [==============================] - 1s 5ms/step - loss: 6.7799e-04 - val_loss: 0.0035\n",
      "Epoch 00043: early stopping\n"
     ]
    },
    {
     "data": {
      "text/plain": [
       "<keras.callbacks.History at 0x1f7e22b2400>"
      ]
     },
     "execution_count": 40,
     "metadata": {},
     "output_type": "execute_result"
    }
   ],
   "source": [
    "model.fit(X_train_t, y_train,\n",
    "        epochs = 100, \n",
    "        batch_size = 1, \n",
    "        verbose = 1,\n",
    "        validation_split=0.1,\n",
    "        callbacks = [early_stop])"
   ]
  },
  {
   "cell_type": "code",
   "execution_count": 41,
   "metadata": {},
   "outputs": [
    {
     "data": {
      "text/plain": [
       "[<matplotlib.lines.Line2D at 0x1f7e3e6c9e8>]"
      ]
     },
     "execution_count": 41,
     "metadata": {},
     "output_type": "execute_result"
    },
    {
     "data": {
      "image/png": "[encoded data removed]",
      "text/plain": [
       "<matplotlib.figure.Figure at 0x1f7e3dfa9e8>"
      ]
     },
     "metadata": {},
     "output_type": "display_data"
    }
   ],
   "source": [
    "y_pred = model.predict(X_test_t)\n",
    "plt.plot(y_test)\n",
    "plt.plot(y_pred)"
   ]
  },
  {
   "cell_type": "code",
   "execution_count": 42,
   "metadata": {},
   "outputs": [
    {
     "name": "stdout",
     "output_type": "stream",
     "text": [
      "MAPE: 3.52994394568%\n"
     ]
    }
   ],
   "source": [
    "print(\"MAPE: \" + str(np.mean(np.abs(y_test-y_pred)/y_test)*100) + \"%\")"
   ]
  },
  {
   "cell_type": "markdown",
   "metadata": {},
   "source": [
    "### GRU"
   ]
  },
  {
   "cell_type": "code",
   "execution_count": 43,
   "metadata": {},
   "outputs": [],
   "source": [
    "K.clear_session()\n",
    "model = Sequential()\n",
    "model.add(GRU(64,input_shape = (1,lags-1)))\n",
    "model.add(Dense(1))\n",
    "model.compile(Adam(lr=0.01),loss = 'mse')"
   ]
  },
  {
   "cell_type": "code",
   "execution_count": 44,
   "metadata": {},
   "outputs": [
    {
     "name": "stdout",
     "output_type": "stream",
     "text": [
      "_________________________________________________________________\n",
      "Layer (type)                 Output Shape              Param #   \n",
      "=================================================================\n",
      "gru_1 (GRU)                  (None, 64)                17088     \n",
      "_________________________________________________________________\n",
      "dense_1 (Dense)              (None, 1)                 65        \n",
      "=================================================================\n",
      "Total params: 17,153\n",
      "Trainable params: 17,153\n",
      "Non-trainable params: 0\n",
      "_________________________________________________________________\n"
     ]
    }
   ],
   "source": [
    "model.summary()"
   ]
  },
  {
   "cell_type": "code",
   "execution_count": 45,
   "metadata": {
    "scrolled": false
   },
   "outputs": [
    {
     "name": "stdout",
     "output_type": "stream",
     "text": [
      "Train on 195 samples, validate on 22 samples\n",
      "Epoch 1/100\n",
      "195/195 [==============================] - 1s 3ms/step - loss: 0.1115 - val_loss: 0.3141\n",
      "Epoch 2/100\n",
      "195/195 [==============================] - 0s 62us/step - loss: 0.1083 - val_loss: 0.0220\n",
      "Epoch 3/100\n",
      "195/195 [==============================] - 0s 72us/step - loss: 0.0166 - val_loss: 0.1319\n",
      "Epoch 4/100\n",
      "195/195 [==============================] - 0s 67us/step - loss: 0.0489 - val_loss: 0.0894\n",
      "Epoch 5/100\n",
      "195/195 [==============================] - 0s 72us/step - loss: 0.0263 - val_loss: 0.0095\n",
      "Epoch 6/100\n",
      "195/195 [==============================] - 0s 67us/step - loss: 0.0105 - val_loss: 0.0390\n",
      "Epoch 7/100\n",
      "195/195 [==============================] - 0s 67us/step - loss: 0.0239 - val_loss: 0.0231\n",
      "Epoch 8/100\n",
      "195/195 [==============================] - 0s 62us/step - loss: 0.0142 - val_loss: 0.0110\n",
      "Epoch 9/100\n",
      "195/195 [==============================] - 0s 62us/step - loss: 0.0074 - val_loss: 0.0356\n",
      "Epoch 10/100\n",
      "195/195 [==============================] - 0s 62us/step - loss: 0.0137 - val_loss: 0.0370\n",
      "Epoch 11/100\n",
      "195/195 [==============================] - 0s 67us/step - loss: 0.0123 - val_loss: 0.0148\n",
      "Epoch 12/100\n",
      "195/195 [==============================] - 0s 72us/step - loss: 0.0065 - val_loss: 0.0085\n",
      "Epoch 13/100\n",
      "195/195 [==============================] - 0s 56us/step - loss: 0.0083 - val_loss: 0.0120\n",
      "Epoch 14/100\n",
      "195/195 [==============================] - 0s 62us/step - loss: 0.0093 - val_loss: 0.0082\n",
      "Epoch 15/100\n",
      "195/195 [==============================] - 0s 72us/step - loss: 0.0062 - val_loss: 0.0099\n",
      "Epoch 16/100\n",
      "195/195 [==============================] - 0s 57us/step - loss: 0.0058 - val_loss: 0.0159\n",
      "Epoch 17/100\n",
      "195/195 [==============================] - 0s 62us/step - loss: 0.0071 - val_loss: 0.0135\n",
      "Epoch 18/100\n",
      "195/195 [==============================] - 0s 67us/step - loss: 0.0060 - val_loss: 0.0077\n",
      "Epoch 19/100\n",
      "195/195 [==============================] - 0s 72us/step - loss: 0.0048 - val_loss: 0.0076\n",
      "Epoch 20/100\n",
      "195/195 [==============================] - 0s 67us/step - loss: 0.0055 - val_loss: 0.0084\n",
      "Epoch 21/100\n",
      "195/195 [==============================] - 0s 67us/step - loss: 0.0055 - val_loss: 0.0065\n",
      "Epoch 22/100\n",
      "195/195 [==============================] - 0s 67us/step - loss: 0.0043 - val_loss: 0.0069\n",
      "Epoch 23/100\n",
      "195/195 [==============================] - 0s 67us/step - loss: 0.0043 - val_loss: 0.0078\n",
      "Epoch 24/100\n",
      "195/195 [==============================] - 0s 57us/step - loss: 0.0046 - val_loss: 0.0065\n",
      "Epoch 25/100\n",
      "195/195 [==============================] - 0s 62us/step - loss: 0.0040 - val_loss: 0.0057\n",
      "Epoch 26/100\n",
      "195/195 [==============================] - 0s 62us/step - loss: 0.0037 - val_loss: 0.0066\n",
      "Epoch 27/100\n",
      "195/195 [==============================] - 0s 57us/step - loss: 0.0039 - val_loss: 0.0061\n",
      "Epoch 28/100\n",
      "195/195 [==============================] - 0s 62us/step - loss: 0.0036 - val_loss: 0.0051\n",
      "Epoch 29/100\n",
      "195/195 [==============================] - 0s 67us/step - loss: 0.0032 - val_loss: 0.0049\n",
      "Epoch 30/100\n",
      "195/195 [==============================] - 0s 67us/step - loss: 0.0032 - val_loss: 0.0047\n",
      "Epoch 31/100\n",
      "195/195 [==============================] - 0s 57us/step - loss: 0.0030 - val_loss: 0.0047\n",
      "Epoch 32/100\n",
      "195/195 [==============================] - 0s 67us/step - loss: 0.0029 - val_loss: 0.0053\n",
      "Epoch 33/100\n",
      "195/195 [==============================] - 0s 62us/step - loss: 0.0028 - val_loss: 0.0047\n",
      "Epoch 34/100\n",
      "195/195 [==============================] - 0s 51us/step - loss: 0.0025 - val_loss: 0.0040\n",
      "Epoch 35/100\n",
      "195/195 [==============================] - 0s 72us/step - loss: 0.0025 - val_loss: 0.0038\n",
      "Epoch 36/100\n",
      "195/195 [==============================] - 0s 67us/step - loss: 0.0024 - val_loss: 0.0038\n",
      "Epoch 37/100\n",
      "195/195 [==============================] - 0s 72us/step - loss: 0.0022 - val_loss: 0.0045\n",
      "Epoch 38/100\n",
      "195/195 [==============================] - 0s 62us/step - loss: 0.0021 - val_loss: 0.0045\n",
      "Epoch 39/100\n",
      "195/195 [==============================] - 0s 72us/step - loss: 0.0020 - val_loss: 0.0037\n",
      "Epoch 40/100\n",
      "195/195 [==============================] - 0s 67us/step - loss: 0.0019 - val_loss: 0.0033\n",
      "Epoch 41/100\n",
      "195/195 [==============================] - 0s 77us/step - loss: 0.0018 - val_loss: 0.0033\n",
      "Epoch 42/100\n",
      "195/195 [==============================] - 0s 72us/step - loss: 0.0017 - val_loss: 0.0037\n",
      "Epoch 43/100\n",
      "195/195 [==============================] - 0s 62us/step - loss: 0.0016 - val_loss: 0.0036\n",
      "Epoch 44/100\n",
      "195/195 [==============================] - 0s 72us/step - loss: 0.0015 - val_loss: 0.0030\n",
      "Epoch 45/100\n",
      "195/195 [==============================] - 0s 62us/step - loss: 0.0014 - val_loss: 0.0030\n",
      "Epoch 46/100\n",
      "195/195 [==============================] - 0s 67us/step - loss: 0.0014 - val_loss: 0.0036\n",
      "Epoch 47/100\n",
      "195/195 [==============================] - 0s 62us/step - loss: 0.0013 - val_loss: 0.0036\n",
      "Epoch 48/100\n",
      "195/195 [==============================] - 0s 67us/step - loss: 0.0012 - val_loss: 0.0031\n",
      "Epoch 49/100\n",
      "195/195 [==============================] - 0s 67us/step - loss: 0.0012 - val_loss: 0.0029\n",
      "Epoch 50/100\n",
      "195/195 [==============================] - 0s 57us/step - loss: 0.0011 - val_loss: 0.0032\n",
      "Epoch 51/100\n",
      "195/195 [==============================] - 0s 67us/step - loss: 0.0011 - val_loss: 0.0038\n",
      "Epoch 52/100\n",
      "195/195 [==============================] - 0s 62us/step - loss: 0.0010 - val_loss: 0.0035\n",
      "Epoch 53/100\n",
      "195/195 [==============================] - 0s 62us/step - loss: 9.8815e-04 - val_loss: 0.0032\n",
      "Epoch 54/100\n",
      "195/195 [==============================] - 0s 67us/step - loss: 9.6143e-04 - val_loss: 0.0030\n",
      "Epoch 55/100\n",
      "195/195 [==============================] - 0s 62us/step - loss: 9.3752e-04 - val_loss: 0.0037\n",
      "Epoch 56/100\n",
      "195/195 [==============================] - 0s 67us/step - loss: 9.0045e-04 - val_loss: 0.0042\n",
      "Epoch 57/100\n",
      "195/195 [==============================] - 0s 67us/step - loss: 8.9099e-04 - val_loss: 0.0040\n",
      "Epoch 58/100\n",
      "195/195 [==============================] - 0s 77us/step - loss: 8.6061e-04 - val_loss: 0.0033\n",
      "Epoch 59/100\n",
      "195/195 [==============================] - 0s 67us/step - loss: 8.3967e-04 - val_loss: 0.0040\n",
      "Epoch 60/100\n",
      "195/195 [==============================] - 0s 67us/step - loss: 8.1889e-04 - val_loss: 0.0046\n",
      "Epoch 61/100\n",
      "195/195 [==============================] - 0s 62us/step - loss: 8.1977e-04 - val_loss: 0.0037\n",
      "Epoch 62/100\n",
      "195/195 [==============================] - 0s 67us/step - loss: 7.9131e-04 - val_loss: 0.0039\n",
      "Epoch 63/100\n",
      "195/195 [==============================] - 0s 62us/step - loss: 7.6560e-04 - val_loss: 0.0047\n",
      "Epoch 64/100\n",
      "195/195 [==============================] - 0s 67us/step - loss: 7.7729e-04 - val_loss: 0.0038\n",
      "Epoch 65/100\n",
      "195/195 [==============================] - 0s 62us/step - loss: 8.0454e-04 - val_loss: 0.0035\n",
      "Epoch 66/100\n",
      "195/195 [==============================] - 0s 67us/step - loss: 7.8049e-04 - val_loss: 0.0051\n",
      "Epoch 67/100\n",
      "195/195 [==============================] - 0s 62us/step - loss: 7.4977e-04 - val_loss: 0.0037\n",
      "Epoch 68/100\n",
      "195/195 [==============================] - 0s 72us/step - loss: 7.2061e-04 - val_loss: 0.0034\n",
      "Epoch 69/100\n",
      "195/195 [==============================] - 0s 72us/step - loss: 7.5243e-04 - val_loss: 0.0042\n",
      "Epoch 70/100\n",
      "195/195 [==============================] - 0s 67us/step - loss: 7.0079e-04 - val_loss: 0.0042\n",
      "Epoch 71/100\n",
      "195/195 [==============================] - 0s 57us/step - loss: 6.9149e-04 - val_loss: 0.0042\n",
      "Epoch 72/100\n",
      "195/195 [==============================] - 0s 67us/step - loss: 6.8594e-04 - val_loss: 0.0039\n",
      "Epoch 73/100\n",
      "195/195 [==============================] - 0s 67us/step - loss: 6.7965e-04 - val_loss: 0.0043\n",
      "Epoch 74/100\n",
      "195/195 [==============================] - 0s 62us/step - loss: 6.6988e-04 - val_loss: 0.0041\n",
      "Epoch 75/100\n",
      "195/195 [==============================] - 0s 67us/step - loss: 6.6512e-04 - val_loss: 0.0040\n",
      "Epoch 76/100\n",
      "195/195 [==============================] - 0s 57us/step - loss: 6.6162e-04 - val_loss: 0.0040\n",
      "Epoch 77/100\n",
      "195/195 [==============================] - 0s 72us/step - loss: 6.5949e-04 - val_loss: 0.0042\n",
      "Epoch 78/100\n",
      "195/195 [==============================] - 0s 67us/step - loss: 6.4862e-04 - val_loss: 0.0042\n",
      "Epoch 79/100\n"
     ]
    },
    {
     "name": "stdout",
     "output_type": "stream",
     "text": [
      "195/195 [==============================] - 0s 67us/step - loss: 6.4395e-04 - val_loss: 0.0044\n",
      "Epoch 80/100\n",
      "195/195 [==============================] - 0s 57us/step - loss: 6.4089e-04 - val_loss: 0.0043\n",
      "Epoch 81/100\n",
      "195/195 [==============================] - 0s 62us/step - loss: 6.3592e-04 - val_loss: 0.0041\n",
      "Epoch 82/100\n",
      "195/195 [==============================] - 0s 62us/step - loss: 6.3839e-04 - val_loss: 0.0044\n",
      "Epoch 83/100\n",
      "195/195 [==============================] - 0s 62us/step - loss: 6.3376e-04 - val_loss: 0.0046\n",
      "Epoch 84/100\n",
      "195/195 [==============================] - 0s 67us/step - loss: 6.2724e-04 - val_loss: 0.0038\n",
      "Epoch 85/100\n",
      "195/195 [==============================] - 0s 67us/step - loss: 6.3436e-04 - val_loss: 0.0041\n",
      "Epoch 86/100\n",
      "195/195 [==============================] - 0s 62us/step - loss: 6.1644e-04 - val_loss: 0.0048\n",
      "Epoch 87/100\n",
      "195/195 [==============================] - 0s 62us/step - loss: 6.3327e-04 - val_loss: 0.0042\n",
      "Epoch 88/100\n",
      "195/195 [==============================] - 0s 72us/step - loss: 6.1315e-04 - val_loss: 0.0038\n",
      "Epoch 89/100\n",
      "195/195 [==============================] - 0s 67us/step - loss: 6.1573e-04 - val_loss: 0.0041\n",
      "Epoch 90/100\n",
      "195/195 [==============================] - 0s 67us/step - loss: 6.1047e-04 - val_loss: 0.0048\n",
      "Epoch 91/100\n",
      "195/195 [==============================] - 0s 67us/step - loss: 6.3678e-04 - val_loss: 0.0040\n",
      "Epoch 92/100\n",
      "195/195 [==============================] - 0s 62us/step - loss: 6.0583e-04 - val_loss: 0.0033\n",
      "Epoch 93/100\n",
      "195/195 [==============================] - 0s 62us/step - loss: 6.4203e-04 - val_loss: 0.0044\n",
      "Epoch 94/100\n",
      "195/195 [==============================] - 0s 67us/step - loss: 6.0776e-04 - val_loss: 0.0042\n",
      "Epoch 95/100\n",
      "195/195 [==============================] - 0s 62us/step - loss: 6.0717e-04 - val_loss: 0.0037\n",
      "Epoch 96/100\n",
      "195/195 [==============================] - 0s 67us/step - loss: 6.0157e-04 - val_loss: 0.0035\n",
      "Epoch 97/100\n",
      "195/195 [==============================] - 0s 67us/step - loss: 5.9860e-04 - val_loss: 0.0047\n",
      "Epoch 98/100\n",
      "195/195 [==============================] - 0s 62us/step - loss: 6.0762e-04 - val_loss: 0.0042\n",
      "Epoch 99/100\n",
      "195/195 [==============================] - 0s 67us/step - loss: 5.8433e-04 - val_loss: 0.0036\n",
      "Epoch 100/100\n",
      "195/195 [==============================] - 0s 72us/step - loss: 6.0520e-04 - val_loss: 0.0046\n"
     ]
    },
    {
     "data": {
      "text/plain": [
       "<keras.callbacks.History at 0x1f7e34312e8>"
      ]
     },
     "execution_count": 45,
     "metadata": {},
     "output_type": "execute_result"
    }
   ],
   "source": [
    "model.fit(X_train_t, y_train,\n",
    "         epochs = 100, batch_size = 128, verbose = 1,validation_split=0.1)"
   ]
  },
  {
   "cell_type": "code",
   "execution_count": 46,
   "metadata": {},
   "outputs": [
    {
     "data": {
      "text/plain": [
       "[<matplotlib.lines.Line2D at 0x1f7e3431208>]"
      ]
     },
     "execution_count": 46,
     "metadata": {},
     "output_type": "execute_result"
    },
    {
     "data": {
      "image/png": "[encoded data removed]",
      "text/plain": [
       "<matplotlib.figure.Figure at 0x1f7e58e3e80>"
      ]
     },
     "metadata": {},
     "output_type": "display_data"
    }
   ],
   "source": [
    "y_pred = model.predict(X_test_t)\n",
    "plt.plot(y_test)\n",
    "plt.plot(y_pred)"
   ]
  },
  {
   "cell_type": "code",
   "execution_count": 47,
   "metadata": {},
   "outputs": [
    {
     "name": "stdout",
     "output_type": "stream",
     "text": [
      "MAPE: 2.70493166199%\n"
     ]
    }
   ],
   "source": [
    "print(\"MAPE: \" + str(np.mean(np.abs(y_test-y_pred)/y_test)*100) + \"%\")"
   ]
  },
  {
   "cell_type": "code",
   "execution_count": null,
   "metadata": {
    "collapsed": true
   },
   "outputs": [],
   "source": []
  },
  {
   "cell_type": "code",
   "execution_count": null,
   "metadata": {
    "collapsed": true
   },
   "outputs": [],
   "source": []
  }
 ],
 "metadata": {
  "kernelspec": {
   "display_name": "Python 3",
   "language": "python",
   "name": "python3"
  },
  "language_info": {
   "codemirror_mode": {
    "name": "ipython",
    "version": 3
   },
   "file_extension": ".py",
   "mimetype": "text/x-python",
   "name": "python",
   "nbconvert_exporter": "python",
   "pygments_lexer": "ipython3",
   "version": "3.5.3"
  }
 },
 "nbformat": 4,
 "nbformat_minor": 2
}
